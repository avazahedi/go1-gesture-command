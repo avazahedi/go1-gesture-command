{
  "cells": [
    {
      "cell_type": "code",
      "execution_count": 1,
      "metadata": {
        "id": "igMyGnjE9hEp"
      },
      "outputs": [
        {
          "name": "stderr",
          "output_type": "stream",
          "text": [
            "2023-03-13 16:24:24.723306: I tensorflow/core/platform/cpu_feature_guard.cc:193] This TensorFlow binary is optimized with oneAPI Deep Neural Network Library (oneDNN) to use the following CPU instructions in performance-critical operations:  AVX2 AVX512F AVX512_VNNI FMA\n",
            "To enable them in other operations, rebuild TensorFlow with the appropriate compiler flags.\n",
            "2023-03-13 16:24:24.928586: I tensorflow/core/util/port.cc:104] oneDNN custom operations are on. You may see slightly different numerical results due to floating-point round-off errors from different computation orders. To turn them off, set the environment variable `TF_ENABLE_ONEDNN_OPTS=0`.\n",
            "2023-03-13 16:24:25.781462: W tensorflow/compiler/xla/stream_executor/platform/default/dso_loader.cc:64] Could not load dynamic library 'libnvinfer.so.7'; dlerror: libnvinfer.so.7: cannot open shared object file: No such file or directory; LD_LIBRARY_PATH: /home/avaz/nuws/install/lib:/opt/ros/humble/opt/rviz_ogre_vendor/lib:/opt/ros/humble/lib/x86_64-linux-gnu:/opt/ros/humble/lib\n",
            "2023-03-13 16:24:25.781554: W tensorflow/compiler/xla/stream_executor/platform/default/dso_loader.cc:64] Could not load dynamic library 'libnvinfer_plugin.so.7'; dlerror: libnvinfer_plugin.so.7: cannot open shared object file: No such file or directory; LD_LIBRARY_PATH: /home/avaz/nuws/install/lib:/opt/ros/humble/opt/rviz_ogre_vendor/lib:/opt/ros/humble/lib/x86_64-linux-gnu:/opt/ros/humble/lib\n",
            "2023-03-13 16:24:25.781562: W tensorflow/compiler/tf2tensorrt/utils/py_utils.cc:38] TF-TRT Warning: Cannot dlopen some TensorRT libraries. If you would like to use Nvidia GPU with TensorRT, please make sure the missing libraries mentioned above are installed properly.\n"
          ]
        }
      ],
      "source": [
        "import csv\n",
        "\n",
        "import numpy as np\n",
        "import tensorflow as tf\n",
        "from sklearn.model_selection import train_test_split\n",
        "\n",
        "RANDOM_SEED = 42"
      ]
    },
    {
      "cell_type": "markdown",
      "metadata": {
        "id": "t2HDvhIu9hEr"
      },
      "source": [
        "# Specify each path"
      ]
    },
    {
      "cell_type": "code",
      "execution_count": 2,
      "metadata": {
        "id": "9NvZP2Zn9hEy"
      },
      "outputs": [],
      "source": [
        "# path prefix needs to be modified for changing, training, and saving new models\n",
        "path_prefix = '/home/avaz/courses/w23/winter-project/hgr_go1_ws/src/go1_hgr_ros2/ros2_hgr/'\n",
        "dataset = path_prefix+'model/keypoint_classifier/keypoint.csv'\n",
        "model_save_path = path_prefix+'model/keypoint_classifier/keypoint_classifier.hdf5'\n",
        "tflite_save_path = path_prefix+'model/keypoint_classifier/keypoint_classifier.tflite'"
      ]
    },
    {
      "cell_type": "markdown",
      "metadata": {
        "id": "s5oMH7x19hEz"
      },
      "source": [
        "# Set number of classes"
      ]
    },
    {
      "cell_type": "code",
      "execution_count": 3,
      "metadata": {
        "id": "du4kodXL9hEz"
      },
      "outputs": [],
      "source": [
        "NUM_CLASSES = 8"
      ]
    },
    {
      "cell_type": "markdown",
      "metadata": {
        "id": "XjnL0uso9hEz"
      },
      "source": [
        "# Dataset reading"
      ]
    },
    {
      "cell_type": "code",
      "execution_count": 4,
      "metadata": {
        "id": "QT5ZqtEz9hE0"
      },
      "outputs": [],
      "source": [
        "X_dataset = np.loadtxt(dataset, delimiter=',', dtype='float32', usecols=list(range(1, (21 * 2) + 1)))"
      ]
    },
    {
      "cell_type": "code",
      "execution_count": 5,
      "metadata": {
        "id": "QmoKFsp49hE0"
      },
      "outputs": [],
      "source": [
        "y_dataset = np.loadtxt(dataset, delimiter=',', dtype='int32', usecols=(0))"
      ]
    },
    {
      "cell_type": "code",
      "execution_count": 6,
      "metadata": {
        "id": "xQU7JTZ_9hE0"
      },
      "outputs": [],
      "source": [
        "X_train, X_test, y_train, y_test = train_test_split(X_dataset, y_dataset, train_size=0.75, random_state=RANDOM_SEED)"
      ]
    },
    {
      "cell_type": "markdown",
      "metadata": {
        "id": "mxK_lETT9hE0"
      },
      "source": [
        "# Model building"
      ]
    },
    {
      "cell_type": "code",
      "execution_count": 7,
      "metadata": {
        "id": "vHBmUf1t9hE1"
      },
      "outputs": [
        {
          "name": "stderr",
          "output_type": "stream",
          "text": [
            "2023-03-13 16:24:30.628484: E tensorflow/compiler/xla/stream_executor/cuda/cuda_driver.cc:267] failed call to cuInit: CUDA_ERROR_NO_DEVICE: no CUDA-capable device is detected\n",
            "2023-03-13 16:24:30.628531: I tensorflow/compiler/xla/stream_executor/cuda/cuda_diagnostics.cc:156] kernel driver does not appear to be running on this host (husky): /proc/driver/nvidia/version does not exist\n",
            "2023-03-13 16:24:30.629234: I tensorflow/core/platform/cpu_feature_guard.cc:193] This TensorFlow binary is optimized with oneAPI Deep Neural Network Library (oneDNN) to use the following CPU instructions in performance-critical operations:  AVX2 AVX512F AVX512_VNNI FMA\n",
            "To enable them in other operations, rebuild TensorFlow with the appropriate compiler flags.\n"
          ]
        }
      ],
      "source": [
        "model = tf.keras.models.Sequential([\n",
        "    tf.keras.layers.Input((21 * 2, )),\n",
        "    tf.keras.layers.Dropout(0.2),\n",
        "    tf.keras.layers.Dense(20, activation='relu'),\n",
        "    tf.keras.layers.Dropout(0.4),\n",
        "    tf.keras.layers.Dense(10, activation='relu'),\n",
        "    tf.keras.layers.Dense(NUM_CLASSES, activation='softmax')\n",
        "])"
      ]
    },
    {
      "cell_type": "code",
      "execution_count": 8,
      "metadata": {
        "colab": {
          "base_uri": "https://localhost:8080/"
        },
        "id": "ypqky9tc9hE1",
        "outputId": "5db082bb-30e3-4110-bf63-a1ee777ecd46"
      },
      "outputs": [
        {
          "name": "stdout",
          "output_type": "stream",
          "text": [
            "Model: \"sequential\"\n",
            "_________________________________________________________________\n",
            " Layer (type)                Output Shape              Param #   \n",
            "=================================================================\n",
            " dropout (Dropout)           (None, 42)                0         \n",
            "                                                                 \n",
            " dense (Dense)               (None, 20)                860       \n",
            "                                                                 \n",
            " dropout_1 (Dropout)         (None, 20)                0         \n",
            "                                                                 \n",
            " dense_1 (Dense)             (None, 10)                210       \n",
            "                                                                 \n",
            " dense_2 (Dense)             (None, 8)                 88        \n",
            "                                                                 \n",
            "=================================================================\n",
            "Total params: 1,158\n",
            "Trainable params: 1,158\n",
            "Non-trainable params: 0\n",
            "_________________________________________________________________\n"
          ]
        }
      ],
      "source": [
        "model.summary()  # tf.keras.utils.plot_model(model, show_shapes=True)"
      ]
    },
    {
      "cell_type": "code",
      "execution_count": 9,
      "metadata": {
        "id": "MbMjOflQ9hE1"
      },
      "outputs": [],
      "source": [
        "# Model checkpoint callback\n",
        "cp_callback = tf.keras.callbacks.ModelCheckpoint(\n",
        "    model_save_path, verbose=1, save_weights_only=False)\n",
        "# Callback for early stopping\n",
        "es_callback = tf.keras.callbacks.EarlyStopping(patience=20, verbose=1)"
      ]
    },
    {
      "cell_type": "code",
      "execution_count": 10,
      "metadata": {
        "id": "c3Dac0M_9hE2"
      },
      "outputs": [],
      "source": [
        "# Model compilation\n",
        "model.compile(\n",
        "    optimizer='adam',\n",
        "    loss='sparse_categorical_crossentropy',\n",
        "    metrics=['accuracy']\n",
        ")"
      ]
    },
    {
      "cell_type": "markdown",
      "metadata": {
        "id": "7XI0j1Iu9hE2"
      },
      "source": [
        "# Model training"
      ]
    },
    {
      "cell_type": "code",
      "execution_count": 11,
      "metadata": {
        "colab": {
          "base_uri": "https://localhost:8080/"
        },
        "id": "WirBl-JE9hE3",
        "outputId": "71b30ca2-8294-4d9d-8aa2-800d90d399de",
        "scrolled": true
      },
      "outputs": [
        {
          "name": "stdout",
          "output_type": "stream",
          "text": [
            "Epoch 1/1000\n",
            "48/49 [============================>.] - ETA: 0s - loss: 2.0402 - accuracy: 0.1919\n",
            "Epoch 1: saving model to /home/avaz/courses/w23/winter-project/hgr_go1_ws/src/go1_hgr_ros2/ros2_hgr/model/keypoint_classifier/keypoint_classifier.hdf5\n",
            "49/49 [==============================] - 1s 8ms/step - loss: 2.0384 - accuracy: 0.1928 - val_loss: 1.9224 - val_accuracy: 0.2704\n",
            "Epoch 2/1000\n",
            "43/49 [=========================>....] - ETA: 0s - loss: 1.8933 - accuracy: 0.2832\n",
            "Epoch 2: saving model to /home/avaz/courses/w23/winter-project/hgr_go1_ws/src/go1_hgr_ros2/ros2_hgr/model/keypoint_classifier/keypoint_classifier.hdf5\n",
            "49/49 [==============================] - 0s 4ms/step - loss: 1.8883 - accuracy: 0.2815 - val_loss: 1.7536 - val_accuracy: 0.3933\n",
            "Epoch 3/1000\n",
            "30/49 [=================>............] - ETA: 0s - loss: 1.7852 - accuracy: 0.3182\n",
            "Epoch 3: saving model to /home/avaz/courses/w23/winter-project/hgr_go1_ws/src/go1_hgr_ros2/ros2_hgr/model/keypoint_classifier/keypoint_classifier.hdf5\n",
            "49/49 [==============================] - 0s 3ms/step - loss: 1.7602 - accuracy: 0.3322 - val_loss: 1.6033 - val_accuracy: 0.4814\n",
            "Epoch 4/1000\n",
            "33/49 [===================>..........] - ETA: 0s - loss: 1.6743 - accuracy: 0.3617\n",
            "Epoch 4: saving model to /home/avaz/courses/w23/winter-project/hgr_go1_ws/src/go1_hgr_ros2/ros2_hgr/model/keypoint_classifier/keypoint_classifier.hdf5\n",
            "49/49 [==============================] - 0s 3ms/step - loss: 1.6629 - accuracy: 0.3738 - val_loss: 1.4735 - val_accuracy: 0.5533\n",
            "Epoch 5/1000\n",
            "34/49 [===================>..........] - ETA: 0s - loss: 1.5955 - accuracy: 0.3989\n",
            "Epoch 5: saving model to /home/avaz/courses/w23/winter-project/hgr_go1_ws/src/go1_hgr_ros2/ros2_hgr/model/keypoint_classifier/keypoint_classifier.hdf5\n",
            "49/49 [==============================] - 0s 3ms/step - loss: 1.5805 - accuracy: 0.4117 - val_loss: 1.3665 - val_accuracy: 0.5904\n",
            "Epoch 6/1000\n",
            "33/49 [===================>..........] - ETA: 0s - loss: 1.5038 - accuracy: 0.4259\n",
            "Epoch 6: saving model to /home/avaz/courses/w23/winter-project/hgr_go1_ws/src/go1_hgr_ros2/ros2_hgr/model/keypoint_classifier/keypoint_classifier.hdf5\n",
            "49/49 [==============================] - 0s 3ms/step - loss: 1.5038 - accuracy: 0.4221 - val_loss: 1.2779 - val_accuracy: 0.6029\n",
            "Epoch 7/1000\n",
            "34/49 [===================>..........] - ETA: 0s - loss: 1.4637 - accuracy: 0.4488\n",
            "Epoch 7: saving model to /home/avaz/courses/w23/winter-project/hgr_go1_ws/src/go1_hgr_ros2/ros2_hgr/model/keypoint_classifier/keypoint_classifier.hdf5\n",
            "49/49 [==============================] - 0s 3ms/step - loss: 1.4552 - accuracy: 0.4479 - val_loss: 1.2111 - val_accuracy: 0.6154\n",
            "Epoch 8/1000\n",
            "33/49 [===================>..........] - ETA: 0s - loss: 1.3957 - accuracy: 0.4688\n",
            "Epoch 8: saving model to /home/avaz/courses/w23/winter-project/hgr_go1_ws/src/go1_hgr_ros2/ros2_hgr/model/keypoint_classifier/keypoint_classifier.hdf5\n",
            "49/49 [==============================] - 0s 3ms/step - loss: 1.3888 - accuracy: 0.4655 - val_loss: 1.1467 - val_accuracy: 0.6260\n",
            "Epoch 9/1000\n",
            "33/49 [===================>..........] - ETA: 0s - loss: 1.3549 - accuracy: 0.4735\n",
            "Epoch 9: saving model to /home/avaz/courses/w23/winter-project/hgr_go1_ws/src/go1_hgr_ros2/ros2_hgr/model/keypoint_classifier/keypoint_classifier.hdf5\n",
            "49/49 [==============================] - 0s 3ms/step - loss: 1.3506 - accuracy: 0.4773 - val_loss: 1.0990 - val_accuracy: 0.6173\n",
            "Epoch 10/1000\n",
            "35/49 [====================>.........] - ETA: 0s - loss: 1.3382 - accuracy: 0.4808\n",
            "Epoch 10: saving model to /home/avaz/courses/w23/winter-project/hgr_go1_ws/src/go1_hgr_ros2/ros2_hgr/model/keypoint_classifier/keypoint_classifier.hdf5\n",
            "49/49 [==============================] - 0s 3ms/step - loss: 1.3432 - accuracy: 0.4757 - val_loss: 1.0631 - val_accuracy: 0.6549\n",
            "Epoch 11/1000\n",
            "33/49 [===================>..........] - ETA: 0s - loss: 1.2940 - accuracy: 0.4974\n",
            "Epoch 11: saving model to /home/avaz/courses/w23/winter-project/hgr_go1_ws/src/go1_hgr_ros2/ros2_hgr/model/keypoint_classifier/keypoint_classifier.hdf5\n",
            "49/49 [==============================] - 0s 3ms/step - loss: 1.3045 - accuracy: 0.4900 - val_loss: 1.0203 - val_accuracy: 0.6680\n",
            "Epoch 12/1000\n",
            "33/49 [===================>..........] - ETA: 0s - loss: 1.2952 - accuracy: 0.5021\n",
            "Epoch 12: saving model to /home/avaz/courses/w23/winter-project/hgr_go1_ws/src/go1_hgr_ros2/ros2_hgr/model/keypoint_classifier/keypoint_classifier.hdf5\n",
            "49/49 [==============================] - 0s 3ms/step - loss: 1.2705 - accuracy: 0.5126 - val_loss: 0.9884 - val_accuracy: 0.6670\n",
            "Epoch 13/1000\n",
            "35/49 [====================>.........] - ETA: 0s - loss: 1.2477 - accuracy: 0.5083\n",
            "Epoch 13: saving model to /home/avaz/courses/w23/winter-project/hgr_go1_ws/src/go1_hgr_ros2/ros2_hgr/model/keypoint_classifier/keypoint_classifier.hdf5\n",
            "49/49 [==============================] - 0s 3ms/step - loss: 1.2532 - accuracy: 0.5092 - val_loss: 0.9581 - val_accuracy: 0.6911\n",
            "Epoch 14/1000\n",
            "33/49 [===================>..........] - ETA: 0s - loss: 1.2489 - accuracy: 0.5223\n",
            "Epoch 14: saving model to /home/avaz/courses/w23/winter-project/hgr_go1_ws/src/go1_hgr_ros2/ros2_hgr/model/keypoint_classifier/keypoint_classifier.hdf5\n",
            "49/49 [==============================] - 0s 3ms/step - loss: 1.2420 - accuracy: 0.5205 - val_loss: 0.9425 - val_accuracy: 0.7055\n",
            "Epoch 15/1000\n",
            "33/49 [===================>..........] - ETA: 0s - loss: 1.2368 - accuracy: 0.5253\n",
            "Epoch 15: saving model to /home/avaz/courses/w23/winter-project/hgr_go1_ws/src/go1_hgr_ros2/ros2_hgr/model/keypoint_classifier/keypoint_classifier.hdf5\n",
            "49/49 [==============================] - 0s 3ms/step - loss: 1.2237 - accuracy: 0.5293 - val_loss: 0.9129 - val_accuracy: 0.7123\n",
            "Epoch 16/1000\n",
            "33/49 [===================>..........] - ETA: 0s - loss: 1.1886 - accuracy: 0.5421\n",
            "Epoch 16: saving model to /home/avaz/courses/w23/winter-project/hgr_go1_ws/src/go1_hgr_ros2/ros2_hgr/model/keypoint_classifier/keypoint_classifier.hdf5\n",
            "49/49 [==============================] - 0s 3ms/step - loss: 1.1976 - accuracy: 0.5362 - val_loss: 0.8848 - val_accuracy: 0.7282\n",
            "Epoch 17/1000\n",
            "34/49 [===================>..........] - ETA: 0s - loss: 1.1865 - accuracy: 0.5393\n",
            "Epoch 17: saving model to /home/avaz/courses/w23/winter-project/hgr_go1_ws/src/go1_hgr_ros2/ros2_hgr/model/keypoint_classifier/keypoint_classifier.hdf5\n",
            "49/49 [==============================] - 0s 3ms/step - loss: 1.1812 - accuracy: 0.5427 - val_loss: 0.8769 - val_accuracy: 0.7224\n",
            "Epoch 18/1000\n",
            "34/49 [===================>..........] - ETA: 0s - loss: 1.1851 - accuracy: 0.5388\n",
            "Epoch 18: saving model to /home/avaz/courses/w23/winter-project/hgr_go1_ws/src/go1_hgr_ros2/ros2_hgr/model/keypoint_classifier/keypoint_classifier.hdf5\n",
            "49/49 [==============================] - 0s 3ms/step - loss: 1.1811 - accuracy: 0.5399 - val_loss: 0.8636 - val_accuracy: 0.7499\n",
            "Epoch 19/1000\n",
            "33/49 [===================>..........] - ETA: 0s - loss: 1.1742 - accuracy: 0.5466\n",
            "Epoch 19: saving model to /home/avaz/courses/w23/winter-project/hgr_go1_ws/src/go1_hgr_ros2/ros2_hgr/model/keypoint_classifier/keypoint_classifier.hdf5\n",
            "49/49 [==============================] - 0s 3ms/step - loss: 1.1708 - accuracy: 0.5464 - val_loss: 0.8489 - val_accuracy: 0.7499\n",
            "Epoch 20/1000\n",
            "34/49 [===================>..........] - ETA: 0s - loss: 1.1703 - accuracy: 0.5524\n",
            "Epoch 20: saving model to /home/avaz/courses/w23/winter-project/hgr_go1_ws/src/go1_hgr_ros2/ros2_hgr/model/keypoint_classifier/keypoint_classifier.hdf5\n",
            "49/49 [==============================] - 0s 3ms/step - loss: 1.1707 - accuracy: 0.5528 - val_loss: 0.8307 - val_accuracy: 0.7653\n",
            "Epoch 21/1000\n",
            "34/49 [===================>..........] - ETA: 0s - loss: 1.1416 - accuracy: 0.5533\n",
            "Epoch 21: saving model to /home/avaz/courses/w23/winter-project/hgr_go1_ws/src/go1_hgr_ros2/ros2_hgr/model/keypoint_classifier/keypoint_classifier.hdf5\n",
            "49/49 [==============================] - 0s 3ms/step - loss: 1.1510 - accuracy: 0.5557 - val_loss: 0.8214 - val_accuracy: 0.7586\n",
            "Epoch 22/1000\n",
            "34/49 [===================>..........] - ETA: 0s - loss: 1.1296 - accuracy: 0.5662\n",
            "Epoch 22: saving model to /home/avaz/courses/w23/winter-project/hgr_go1_ws/src/go1_hgr_ros2/ros2_hgr/model/keypoint_classifier/keypoint_classifier.hdf5\n",
            "49/49 [==============================] - 0s 3ms/step - loss: 1.1327 - accuracy: 0.5668 - val_loss: 0.8003 - val_accuracy: 0.7764\n",
            "Epoch 23/1000\n",
            "44/49 [=========================>....] - ETA: 0s - loss: 1.1218 - accuracy: 0.5661\n",
            "Epoch 23: saving model to /home/avaz/courses/w23/winter-project/hgr_go1_ws/src/go1_hgr_ros2/ros2_hgr/model/keypoint_classifier/keypoint_classifier.hdf5\n",
            "49/49 [==============================] - 0s 3ms/step - loss: 1.1200 - accuracy: 0.5677 - val_loss: 0.7997 - val_accuracy: 0.7720\n",
            "Epoch 24/1000\n",
            "32/49 [==================>...........] - ETA: 0s - loss: 1.1104 - accuracy: 0.5732\n",
            "Epoch 24: saving model to /home/avaz/courses/w23/winter-project/hgr_go1_ws/src/go1_hgr_ros2/ros2_hgr/model/keypoint_classifier/keypoint_classifier.hdf5\n",
            "49/49 [==============================] - 0s 3ms/step - loss: 1.1115 - accuracy: 0.5735 - val_loss: 0.7789 - val_accuracy: 0.7798\n",
            "Epoch 25/1000\n",
            "35/49 [====================>.........] - ETA: 0s - loss: 1.1096 - accuracy: 0.5699\n",
            "Epoch 25: saving model to /home/avaz/courses/w23/winter-project/hgr_go1_ws/src/go1_hgr_ros2/ros2_hgr/model/keypoint_classifier/keypoint_classifier.hdf5\n",
            "49/49 [==============================] - 0s 3ms/step - loss: 1.1111 - accuracy: 0.5693 - val_loss: 0.7682 - val_accuracy: 0.7687\n",
            "Epoch 26/1000\n",
            "33/49 [===================>..........] - ETA: 0s - loss: 1.0924 - accuracy: 0.5753\n",
            "Epoch 26: saving model to /home/avaz/courses/w23/winter-project/hgr_go1_ws/src/go1_hgr_ros2/ros2_hgr/model/keypoint_classifier/keypoint_classifier.hdf5\n",
            "49/49 [==============================] - 0s 3ms/step - loss: 1.0945 - accuracy: 0.5806 - val_loss: 0.7680 - val_accuracy: 0.7986\n",
            "Epoch 27/1000\n",
            "34/49 [===================>..........] - ETA: 0s - loss: 1.0745 - accuracy: 0.5830\n",
            "Epoch 27: saving model to /home/avaz/courses/w23/winter-project/hgr_go1_ws/src/go1_hgr_ros2/ros2_hgr/model/keypoint_classifier/keypoint_classifier.hdf5\n",
            "49/49 [==============================] - 0s 3ms/step - loss: 1.0784 - accuracy: 0.5828 - val_loss: 0.7367 - val_accuracy: 0.8231\n",
            "Epoch 28/1000\n",
            "33/49 [===================>..........] - ETA: 0s - loss: 1.0789 - accuracy: 0.5888\n",
            "Epoch 28: saving model to /home/avaz/courses/w23/winter-project/hgr_go1_ws/src/go1_hgr_ros2/ros2_hgr/model/keypoint_classifier/keypoint_classifier.hdf5\n",
            "49/49 [==============================] - 0s 3ms/step - loss: 1.0697 - accuracy: 0.5909 - val_loss: 0.7323 - val_accuracy: 0.8318\n",
            "Epoch 29/1000\n",
            "34/49 [===================>..........] - ETA: 0s - loss: 1.0526 - accuracy: 0.6016\n",
            "Epoch 29: saving model to /home/avaz/courses/w23/winter-project/hgr_go1_ws/src/go1_hgr_ros2/ros2_hgr/model/keypoint_classifier/keypoint_classifier.hdf5\n",
            "49/49 [==============================] - 0s 3ms/step - loss: 1.0649 - accuracy: 0.5984 - val_loss: 0.7302 - val_accuracy: 0.8463\n",
            "Epoch 30/1000\n",
            "32/49 [==================>...........] - ETA: 0s - loss: 1.0869 - accuracy: 0.5789\n",
            "Epoch 30: saving model to /home/avaz/courses/w23/winter-project/hgr_go1_ws/src/go1_hgr_ros2/ros2_hgr/model/keypoint_classifier/keypoint_classifier.hdf5\n",
            "49/49 [==============================] - 0s 3ms/step - loss: 1.0823 - accuracy: 0.5828 - val_loss: 0.7219 - val_accuracy: 0.8289\n",
            "Epoch 31/1000\n",
            "30/49 [=================>............] - ETA: 0s - loss: 1.0806 - accuracy: 0.5974\n",
            "Epoch 31: saving model to /home/avaz/courses/w23/winter-project/hgr_go1_ws/src/go1_hgr_ros2/ros2_hgr/model/keypoint_classifier/keypoint_classifier.hdf5\n",
            "49/49 [==============================] - 0s 3ms/step - loss: 1.0641 - accuracy: 0.6012 - val_loss: 0.7077 - val_accuracy: 0.8361\n",
            "Epoch 32/1000\n",
            "26/49 [==============>...............] - ETA: 0s - loss: 1.0572 - accuracy: 0.5968\n",
            "Epoch 32: saving model to /home/avaz/courses/w23/winter-project/hgr_go1_ws/src/go1_hgr_ros2/ros2_hgr/model/keypoint_classifier/keypoint_classifier.hdf5\n",
            "49/49 [==============================] - 0s 3ms/step - loss: 1.0464 - accuracy: 0.6023 - val_loss: 0.6949 - val_accuracy: 0.8651\n",
            "Epoch 33/1000\n",
            "26/49 [==============>...............] - ETA: 0s - loss: 1.0362 - accuracy: 0.6061\n",
            "Epoch 33: saving model to /home/avaz/courses/w23/winter-project/hgr_go1_ws/src/go1_hgr_ros2/ros2_hgr/model/keypoint_classifier/keypoint_classifier.hdf5\n",
            "49/49 [==============================] - 0s 3ms/step - loss: 1.0441 - accuracy: 0.6077 - val_loss: 0.6783 - val_accuracy: 0.8549\n",
            "Epoch 34/1000\n",
            "30/49 [=================>............] - ETA: 0s - loss: 1.0571 - accuracy: 0.5974\n",
            "Epoch 34: saving model to /home/avaz/courses/w23/winter-project/hgr_go1_ws/src/go1_hgr_ros2/ros2_hgr/model/keypoint_classifier/keypoint_classifier.hdf5\n",
            "49/49 [==============================] - 0s 3ms/step - loss: 1.0517 - accuracy: 0.5992 - val_loss: 0.6777 - val_accuracy: 0.8790\n",
            "Epoch 35/1000\n",
            "27/49 [===============>..............] - ETA: 0s - loss: 1.0458 - accuracy: 0.6100\n",
            "Epoch 35: saving model to /home/avaz/courses/w23/winter-project/hgr_go1_ws/src/go1_hgr_ros2/ros2_hgr/model/keypoint_classifier/keypoint_classifier.hdf5\n",
            "49/49 [==============================] - 0s 4ms/step - loss: 1.0365 - accuracy: 0.6057 - val_loss: 0.6757 - val_accuracy: 0.8781\n",
            "Epoch 36/1000\n",
            "31/49 [=================>............] - ETA: 0s - loss: 1.0329 - accuracy: 0.6162\n",
            "Epoch 36: saving model to /home/avaz/courses/w23/winter-project/hgr_go1_ws/src/go1_hgr_ros2/ros2_hgr/model/keypoint_classifier/keypoint_classifier.hdf5\n",
            "49/49 [==============================] - 0s 3ms/step - loss: 1.0239 - accuracy: 0.6158 - val_loss: 0.6643 - val_accuracy: 0.8742\n",
            "Epoch 37/1000\n",
            "40/49 [=======================>......] - ETA: 0s - loss: 1.0179 - accuracy: 0.6104\n",
            "Epoch 37: saving model to /home/avaz/courses/w23/winter-project/hgr_go1_ws/src/go1_hgr_ros2/ros2_hgr/model/keypoint_classifier/keypoint_classifier.hdf5\n",
            "49/49 [==============================] - 0s 4ms/step - loss: 1.0064 - accuracy: 0.6147 - val_loss: 0.6397 - val_accuracy: 0.8848\n",
            "Epoch 38/1000\n",
            "49/49 [==============================] - ETA: 0s - loss: 1.0151 - accuracy: 0.6180\n",
            "Epoch 38: saving model to /home/avaz/courses/w23/winter-project/hgr_go1_ws/src/go1_hgr_ros2/ros2_hgr/model/keypoint_classifier/keypoint_classifier.hdf5\n",
            "49/49 [==============================] - 0s 4ms/step - loss: 1.0151 - accuracy: 0.6180 - val_loss: 0.6523 - val_accuracy: 0.8641\n",
            "Epoch 39/1000\n",
            "30/49 [=================>............] - ETA: 0s - loss: 0.9778 - accuracy: 0.6352\n",
            "Epoch 39: saving model to /home/avaz/courses/w23/winter-project/hgr_go1_ws/src/go1_hgr_ros2/ros2_hgr/model/keypoint_classifier/keypoint_classifier.hdf5\n",
            "49/49 [==============================] - 0s 3ms/step - loss: 0.9851 - accuracy: 0.6310 - val_loss: 0.6322 - val_accuracy: 0.8766\n",
            "Epoch 40/1000\n",
            "32/49 [==================>...........] - ETA: 0s - loss: 1.0051 - accuracy: 0.6194\n",
            "Epoch 40: saving model to /home/avaz/courses/w23/winter-project/hgr_go1_ws/src/go1_hgr_ros2/ros2_hgr/model/keypoint_classifier/keypoint_classifier.hdf5\n",
            "49/49 [==============================] - 0s 3ms/step - loss: 0.9899 - accuracy: 0.6278 - val_loss: 0.6237 - val_accuracy: 0.8602\n",
            "Epoch 41/1000\n",
            "31/49 [=================>............] - ETA: 0s - loss: 0.9970 - accuracy: 0.6255\n",
            "Epoch 41: saving model to /home/avaz/courses/w23/winter-project/hgr_go1_ws/src/go1_hgr_ros2/ros2_hgr/model/keypoint_classifier/keypoint_classifier.hdf5\n",
            "49/49 [==============================] - 0s 3ms/step - loss: 1.0034 - accuracy: 0.6222 - val_loss: 0.6321 - val_accuracy: 0.8593\n",
            "Epoch 42/1000\n",
            "27/49 [===============>..............] - ETA: 0s - loss: 0.9904 - accuracy: 0.6311\n",
            "Epoch 42: saving model to /home/avaz/courses/w23/winter-project/hgr_go1_ws/src/go1_hgr_ros2/ros2_hgr/model/keypoint_classifier/keypoint_classifier.hdf5\n",
            "49/49 [==============================] - 0s 3ms/step - loss: 0.9998 - accuracy: 0.6254 - val_loss: 0.6231 - val_accuracy: 0.8757\n",
            "Epoch 43/1000\n",
            "30/49 [=================>............] - ETA: 0s - loss: 0.9923 - accuracy: 0.6242\n",
            "Epoch 43: saving model to /home/avaz/courses/w23/winter-project/hgr_go1_ws/src/go1_hgr_ros2/ros2_hgr/model/keypoint_classifier/keypoint_classifier.hdf5\n",
            "49/49 [==============================] - 0s 3ms/step - loss: 0.9927 - accuracy: 0.6298 - val_loss: 0.6145 - val_accuracy: 0.8665\n",
            "Epoch 44/1000\n",
            "30/49 [=================>............] - ETA: 0s - loss: 0.9747 - accuracy: 0.6339\n",
            "Epoch 44: saving model to /home/avaz/courses/w23/winter-project/hgr_go1_ws/src/go1_hgr_ros2/ros2_hgr/model/keypoint_classifier/keypoint_classifier.hdf5\n",
            "49/49 [==============================] - 0s 3ms/step - loss: 0.9887 - accuracy: 0.6322 - val_loss: 0.6083 - val_accuracy: 0.8954\n",
            "Epoch 45/1000\n",
            "28/49 [================>.............] - ETA: 0s - loss: 0.9835 - accuracy: 0.6342\n",
            "Epoch 45: saving model to /home/avaz/courses/w23/winter-project/hgr_go1_ws/src/go1_hgr_ros2/ros2_hgr/model/keypoint_classifier/keypoint_classifier.hdf5\n",
            "49/49 [==============================] - 0s 3ms/step - loss: 0.9895 - accuracy: 0.6282 - val_loss: 0.6144 - val_accuracy: 0.8901\n",
            "Epoch 46/1000\n",
            "33/49 [===================>..........] - ETA: 0s - loss: 0.9587 - accuracy: 0.6465\n",
            "Epoch 46: saving model to /home/avaz/courses/w23/winter-project/hgr_go1_ws/src/go1_hgr_ros2/ros2_hgr/model/keypoint_classifier/keypoint_classifier.hdf5\n",
            "49/49 [==============================] - 0s 4ms/step - loss: 0.9539 - accuracy: 0.6436 - val_loss: 0.5966 - val_accuracy: 0.8973\n",
            "Epoch 47/1000\n",
            "31/49 [=================>............] - ETA: 0s - loss: 0.9622 - accuracy: 0.6386\n",
            "Epoch 47: saving model to /home/avaz/courses/w23/winter-project/hgr_go1_ws/src/go1_hgr_ros2/ros2_hgr/model/keypoint_classifier/keypoint_classifier.hdf5\n",
            "49/49 [==============================] - 0s 3ms/step - loss: 0.9656 - accuracy: 0.6407 - val_loss: 0.5958 - val_accuracy: 0.8998\n",
            "Epoch 48/1000\n",
            "32/49 [==================>...........] - ETA: 0s - loss: 0.9557 - accuracy: 0.6431\n",
            "Epoch 48: saving model to /home/avaz/courses/w23/winter-project/hgr_go1_ws/src/go1_hgr_ros2/ros2_hgr/model/keypoint_classifier/keypoint_classifier.hdf5\n",
            "49/49 [==============================] - 0s 3ms/step - loss: 0.9669 - accuracy: 0.6402 - val_loss: 0.5906 - val_accuracy: 0.8983\n",
            "Epoch 49/1000\n",
            "33/49 [===================>..........] - ETA: 0s - loss: 0.9723 - accuracy: 0.6319\n",
            "Epoch 49: saving model to /home/avaz/courses/w23/winter-project/hgr_go1_ws/src/go1_hgr_ros2/ros2_hgr/model/keypoint_classifier/keypoint_classifier.hdf5\n",
            "49/49 [==============================] - 0s 3ms/step - loss: 0.9757 - accuracy: 0.6322 - val_loss: 0.5858 - val_accuracy: 0.8998\n",
            "Epoch 50/1000\n",
            "31/49 [=================>............] - ETA: 0s - loss: 0.9739 - accuracy: 0.6323\n",
            "Epoch 50: saving model to /home/avaz/courses/w23/winter-project/hgr_go1_ws/src/go1_hgr_ros2/ros2_hgr/model/keypoint_classifier/keypoint_classifier.hdf5\n",
            "49/49 [==============================] - 0s 3ms/step - loss: 0.9752 - accuracy: 0.6323 - val_loss: 0.5812 - val_accuracy: 0.9022\n",
            "Epoch 51/1000\n",
            "49/49 [==============================] - ETA: 0s - loss: 0.9484 - accuracy: 0.6413\n",
            "Epoch 51: saving model to /home/avaz/courses/w23/winter-project/hgr_go1_ws/src/go1_hgr_ros2/ros2_hgr/model/keypoint_classifier/keypoint_classifier.hdf5\n",
            "49/49 [==============================] - 0s 3ms/step - loss: 0.9484 - accuracy: 0.6413 - val_loss: 0.5778 - val_accuracy: 0.9027\n",
            "Epoch 52/1000\n",
            "43/49 [=========================>....] - ETA: 0s - loss: 0.9553 - accuracy: 0.6448\n",
            "Epoch 52: saving model to /home/avaz/courses/w23/winter-project/hgr_go1_ws/src/go1_hgr_ros2/ros2_hgr/model/keypoint_classifier/keypoint_classifier.hdf5\n",
            "49/49 [==============================] - 0s 4ms/step - loss: 0.9510 - accuracy: 0.6489 - val_loss: 0.5650 - val_accuracy: 0.9002\n",
            "Epoch 53/1000\n",
            "30/49 [=================>............] - ETA: 0s - loss: 0.9505 - accuracy: 0.6440\n",
            "Epoch 53: saving model to /home/avaz/courses/w23/winter-project/hgr_go1_ws/src/go1_hgr_ros2/ros2_hgr/model/keypoint_classifier/keypoint_classifier.hdf5\n",
            "49/49 [==============================] - 0s 3ms/step - loss: 0.9564 - accuracy: 0.6380 - val_loss: 0.5833 - val_accuracy: 0.8839\n",
            "Epoch 54/1000\n",
            "29/49 [================>.............] - ETA: 0s - loss: 0.9509 - accuracy: 0.6398\n",
            "Epoch 54: saving model to /home/avaz/courses/w23/winter-project/hgr_go1_ws/src/go1_hgr_ros2/ros2_hgr/model/keypoint_classifier/keypoint_classifier.hdf5\n",
            "49/49 [==============================] - 0s 3ms/step - loss: 0.9505 - accuracy: 0.6462 - val_loss: 0.5745 - val_accuracy: 0.9017\n",
            "Epoch 55/1000\n",
            "34/49 [===================>..........] - ETA: 0s - loss: 0.9475 - accuracy: 0.6448\n",
            "Epoch 55: saving model to /home/avaz/courses/w23/winter-project/hgr_go1_ws/src/go1_hgr_ros2/ros2_hgr/model/keypoint_classifier/keypoint_classifier.hdf5\n",
            "49/49 [==============================] - 0s 3ms/step - loss: 0.9445 - accuracy: 0.6476 - val_loss: 0.5551 - val_accuracy: 0.9055\n",
            "Epoch 56/1000\n",
            "26/49 [==============>...............] - ETA: 0s - loss: 0.9383 - accuracy: 0.6481\n",
            "Epoch 56: saving model to /home/avaz/courses/w23/winter-project/hgr_go1_ws/src/go1_hgr_ros2/ros2_hgr/model/keypoint_classifier/keypoint_classifier.hdf5\n",
            "49/49 [==============================] - 0s 3ms/step - loss: 0.9348 - accuracy: 0.6502 - val_loss: 0.5516 - val_accuracy: 0.9123\n",
            "Epoch 57/1000\n",
            "28/49 [================>.............] - ETA: 0s - loss: 0.9704 - accuracy: 0.6339\n",
            "Epoch 57: saving model to /home/avaz/courses/w23/winter-project/hgr_go1_ws/src/go1_hgr_ros2/ros2_hgr/model/keypoint_classifier/keypoint_classifier.hdf5\n",
            "49/49 [==============================] - 0s 3ms/step - loss: 0.9526 - accuracy: 0.6471 - val_loss: 0.5563 - val_accuracy: 0.8848\n",
            "Epoch 58/1000\n",
            "29/49 [================>.............] - ETA: 0s - loss: 0.9354 - accuracy: 0.6484\n",
            "Epoch 58: saving model to /home/avaz/courses/w23/winter-project/hgr_go1_ws/src/go1_hgr_ros2/ros2_hgr/model/keypoint_classifier/keypoint_classifier.hdf5\n",
            "49/49 [==============================] - 0s 3ms/step - loss: 0.9424 - accuracy: 0.6508 - val_loss: 0.5442 - val_accuracy: 0.9113\n",
            "Epoch 59/1000\n",
            "30/49 [=================>............] - ETA: 0s - loss: 0.9488 - accuracy: 0.6495\n",
            "Epoch 59: saving model to /home/avaz/courses/w23/winter-project/hgr_go1_ws/src/go1_hgr_ros2/ros2_hgr/model/keypoint_classifier/keypoint_classifier.hdf5\n",
            "49/49 [==============================] - 0s 3ms/step - loss: 0.9355 - accuracy: 0.6529 - val_loss: 0.5508 - val_accuracy: 0.9041\n",
            "Epoch 60/1000\n",
            "43/49 [=========================>....] - ETA: 0s - loss: 0.9124 - accuracy: 0.6628\n",
            "Epoch 60: saving model to /home/avaz/courses/w23/winter-project/hgr_go1_ws/src/go1_hgr_ros2/ros2_hgr/model/keypoint_classifier/keypoint_classifier.hdf5\n",
            "49/49 [==============================] - 0s 4ms/step - loss: 0.9132 - accuracy: 0.6608 - val_loss: 0.5348 - val_accuracy: 0.9113\n",
            "Epoch 61/1000\n",
            "29/49 [================>.............] - ETA: 0s - loss: 0.9315 - accuracy: 0.6576\n",
            "Epoch 61: saving model to /home/avaz/courses/w23/winter-project/hgr_go1_ws/src/go1_hgr_ros2/ros2_hgr/model/keypoint_classifier/keypoint_classifier.hdf5\n",
            "49/49 [==============================] - 0s 3ms/step - loss: 0.9318 - accuracy: 0.6519 - val_loss: 0.5417 - val_accuracy: 0.9099\n",
            "Epoch 62/1000\n",
            "29/49 [================>.............] - ETA: 0s - loss: 0.9280 - accuracy: 0.6538\n",
            "Epoch 62: saving model to /home/avaz/courses/w23/winter-project/hgr_go1_ws/src/go1_hgr_ros2/ros2_hgr/model/keypoint_classifier/keypoint_classifier.hdf5\n",
            "49/49 [==============================] - 0s 3ms/step - loss: 0.9343 - accuracy: 0.6505 - val_loss: 0.5513 - val_accuracy: 0.8949\n",
            "Epoch 63/1000\n",
            "48/49 [============================>.] - ETA: 0s - loss: 0.9260 - accuracy: 0.6561\n",
            "Epoch 63: saving model to /home/avaz/courses/w23/winter-project/hgr_go1_ws/src/go1_hgr_ros2/ros2_hgr/model/keypoint_classifier/keypoint_classifier.hdf5\n",
            "49/49 [==============================] - 0s 4ms/step - loss: 0.9240 - accuracy: 0.6569 - val_loss: 0.5335 - val_accuracy: 0.9075\n",
            "Epoch 64/1000\n",
            "24/49 [=============>................] - ETA: 0s - loss: 0.8952 - accuracy: 0.6592\n",
            "Epoch 64: saving model to /home/avaz/courses/w23/winter-project/hgr_go1_ws/src/go1_hgr_ros2/ros2_hgr/model/keypoint_classifier/keypoint_classifier.hdf5\n",
            "49/49 [==============================] - 0s 3ms/step - loss: 0.9195 - accuracy: 0.6498 - val_loss: 0.5213 - val_accuracy: 0.9195\n",
            "Epoch 65/1000\n",
            "46/49 [===========================>..] - ETA: 0s - loss: 0.9231 - accuracy: 0.6557\n",
            "Epoch 65: saving model to /home/avaz/courses/w23/winter-project/hgr_go1_ws/src/go1_hgr_ros2/ros2_hgr/model/keypoint_classifier/keypoint_classifier.hdf5\n",
            "49/49 [==============================] - 0s 4ms/step - loss: 0.9225 - accuracy: 0.6576 - val_loss: 0.5233 - val_accuracy: 0.9123\n",
            "Epoch 66/1000\n",
            "27/49 [===============>..............] - ETA: 0s - loss: 0.9269 - accuracy: 0.6455\n",
            "Epoch 66: saving model to /home/avaz/courses/w23/winter-project/hgr_go1_ws/src/go1_hgr_ros2/ros2_hgr/model/keypoint_classifier/keypoint_classifier.hdf5\n",
            "49/49 [==============================] - 0s 3ms/step - loss: 0.9357 - accuracy: 0.6502 - val_loss: 0.5243 - val_accuracy: 0.9089\n",
            "Epoch 67/1000\n",
            "48/49 [============================>.] - ETA: 0s - loss: 0.9200 - accuracy: 0.6611\n",
            "Epoch 67: saving model to /home/avaz/courses/w23/winter-project/hgr_go1_ws/src/go1_hgr_ros2/ros2_hgr/model/keypoint_classifier/keypoint_classifier.hdf5\n",
            "49/49 [==============================] - 0s 3ms/step - loss: 0.9210 - accuracy: 0.6608 - val_loss: 0.5237 - val_accuracy: 0.9142\n",
            "Epoch 68/1000\n",
            "27/49 [===============>..............] - ETA: 0s - loss: 0.9234 - accuracy: 0.6568\n",
            "Epoch 68: saving model to /home/avaz/courses/w23/winter-project/hgr_go1_ws/src/go1_hgr_ros2/ros2_hgr/model/keypoint_classifier/keypoint_classifier.hdf5\n",
            "49/49 [==============================] - 0s 3ms/step - loss: 0.9206 - accuracy: 0.6584 - val_loss: 0.5480 - val_accuracy: 0.8733\n",
            "Epoch 69/1000\n",
            "26/49 [==============>...............] - ETA: 0s - loss: 0.8924 - accuracy: 0.6716\n",
            "Epoch 69: saving model to /home/avaz/courses/w23/winter-project/hgr_go1_ws/src/go1_hgr_ros2/ros2_hgr/model/keypoint_classifier/keypoint_classifier.hdf5\n",
            "49/49 [==============================] - 0s 3ms/step - loss: 0.8929 - accuracy: 0.6707 - val_loss: 0.5049 - val_accuracy: 0.9205\n",
            "Epoch 70/1000\n",
            "46/49 [===========================>..] - ETA: 0s - loss: 0.9122 - accuracy: 0.6600\n",
            "Epoch 70: saving model to /home/avaz/courses/w23/winter-project/hgr_go1_ws/src/go1_hgr_ros2/ros2_hgr/model/keypoint_classifier/keypoint_classifier.hdf5\n",
            "49/49 [==============================] - 0s 4ms/step - loss: 0.9053 - accuracy: 0.6637 - val_loss: 0.5165 - val_accuracy: 0.9147\n",
            "Epoch 71/1000\n",
            "37/49 [=====================>........] - ETA: 0s - loss: 0.9088 - accuracy: 0.6577\n",
            "Epoch 71: saving model to /home/avaz/courses/w23/winter-project/hgr_go1_ws/src/go1_hgr_ros2/ros2_hgr/model/keypoint_classifier/keypoint_classifier.hdf5\n",
            "49/49 [==============================] - 0s 4ms/step - loss: 0.9059 - accuracy: 0.6621 - val_loss: 0.5084 - val_accuracy: 0.9176\n",
            "Epoch 72/1000\n",
            "26/49 [==============>...............] - ETA: 0s - loss: 0.8946 - accuracy: 0.6713\n",
            "Epoch 72: saving model to /home/avaz/courses/w23/winter-project/hgr_go1_ws/src/go1_hgr_ros2/ros2_hgr/model/keypoint_classifier/keypoint_classifier.hdf5\n",
            "49/49 [==============================] - 0s 3ms/step - loss: 0.8838 - accuracy: 0.6736 - val_loss: 0.5008 - val_accuracy: 0.9205\n",
            "Epoch 73/1000\n",
            "29/49 [================>.............] - ETA: 0s - loss: 0.8983 - accuracy: 0.6627\n",
            "Epoch 73: saving model to /home/avaz/courses/w23/winter-project/hgr_go1_ws/src/go1_hgr_ros2/ros2_hgr/model/keypoint_classifier/keypoint_classifier.hdf5\n",
            "49/49 [==============================] - 0s 3ms/step - loss: 0.8915 - accuracy: 0.6638 - val_loss: 0.4911 - val_accuracy: 0.9306\n",
            "Epoch 74/1000\n",
            "30/49 [=================>............] - ETA: 0s - loss: 0.9048 - accuracy: 0.6643\n",
            "Epoch 74: saving model to /home/avaz/courses/w23/winter-project/hgr_go1_ws/src/go1_hgr_ros2/ros2_hgr/model/keypoint_classifier/keypoint_classifier.hdf5\n",
            "49/49 [==============================] - 0s 3ms/step - loss: 0.9046 - accuracy: 0.6701 - val_loss: 0.5039 - val_accuracy: 0.9214\n",
            "Epoch 75/1000\n",
            "28/49 [================>.............] - ETA: 0s - loss: 0.8955 - accuracy: 0.6652\n",
            "Epoch 75: saving model to /home/avaz/courses/w23/winter-project/hgr_go1_ws/src/go1_hgr_ros2/ros2_hgr/model/keypoint_classifier/keypoint_classifier.hdf5\n",
            "49/49 [==============================] - 0s 3ms/step - loss: 0.8976 - accuracy: 0.6658 - val_loss: 0.4973 - val_accuracy: 0.9253\n",
            "Epoch 76/1000\n",
            "28/49 [================>.............] - ETA: 0s - loss: 0.8883 - accuracy: 0.6727\n",
            "Epoch 76: saving model to /home/avaz/courses/w23/winter-project/hgr_go1_ws/src/go1_hgr_ros2/ros2_hgr/model/keypoint_classifier/keypoint_classifier.hdf5\n",
            "49/49 [==============================] - 0s 3ms/step - loss: 0.8847 - accuracy: 0.6725 - val_loss: 0.5013 - val_accuracy: 0.9229\n",
            "Epoch 77/1000\n",
            "29/49 [================>.............] - ETA: 0s - loss: 0.8994 - accuracy: 0.6681\n",
            "Epoch 77: saving model to /home/avaz/courses/w23/winter-project/hgr_go1_ws/src/go1_hgr_ros2/ros2_hgr/model/keypoint_classifier/keypoint_classifier.hdf5\n",
            "49/49 [==============================] - 0s 3ms/step - loss: 0.8883 - accuracy: 0.6709 - val_loss: 0.4934 - val_accuracy: 0.9239\n",
            "Epoch 78/1000\n",
            "29/49 [================>.............] - ETA: 0s - loss: 0.9085 - accuracy: 0.6565\n",
            "Epoch 78: saving model to /home/avaz/courses/w23/winter-project/hgr_go1_ws/src/go1_hgr_ros2/ros2_hgr/model/keypoint_classifier/keypoint_classifier.hdf5\n",
            "49/49 [==============================] - 0s 3ms/step - loss: 0.9074 - accuracy: 0.6605 - val_loss: 0.5095 - val_accuracy: 0.9166\n",
            "Epoch 79/1000\n",
            "29/49 [================>.............] - ETA: 0s - loss: 0.8732 - accuracy: 0.6732\n",
            "Epoch 79: saving model to /home/avaz/courses/w23/winter-project/hgr_go1_ws/src/go1_hgr_ros2/ros2_hgr/model/keypoint_classifier/keypoint_classifier.hdf5\n",
            "49/49 [==============================] - 0s 3ms/step - loss: 0.8823 - accuracy: 0.6725 - val_loss: 0.4954 - val_accuracy: 0.9243\n",
            "Epoch 80/1000\n",
            "48/49 [============================>.] - ETA: 0s - loss: 0.8757 - accuracy: 0.6769\n",
            "Epoch 80: saving model to /home/avaz/courses/w23/winter-project/hgr_go1_ws/src/go1_hgr_ros2/ros2_hgr/model/keypoint_classifier/keypoint_classifier.hdf5\n",
            "49/49 [==============================] - 0s 3ms/step - loss: 0.8759 - accuracy: 0.6767 - val_loss: 0.4975 - val_accuracy: 0.9263\n",
            "Epoch 81/1000\n",
            "25/49 [==============>...............] - ETA: 0s - loss: 0.8927 - accuracy: 0.6669\n",
            "Epoch 81: saving model to /home/avaz/courses/w23/winter-project/hgr_go1_ws/src/go1_hgr_ros2/ros2_hgr/model/keypoint_classifier/keypoint_classifier.hdf5\n",
            "49/49 [==============================] - 0s 3ms/step - loss: 0.8875 - accuracy: 0.6651 - val_loss: 0.4942 - val_accuracy: 0.9161\n",
            "Epoch 82/1000\n",
            "31/49 [=================>............] - ETA: 0s - loss: 0.8890 - accuracy: 0.6673\n",
            "Epoch 82: saving model to /home/avaz/courses/w23/winter-project/hgr_go1_ws/src/go1_hgr_ros2/ros2_hgr/model/keypoint_classifier/keypoint_classifier.hdf5\n",
            "49/49 [==============================] - 0s 3ms/step - loss: 0.8808 - accuracy: 0.6725 - val_loss: 0.4869 - val_accuracy: 0.9306\n",
            "Epoch 83/1000\n",
            "29/49 [================>.............] - ETA: 0s - loss: 0.8916 - accuracy: 0.6668\n",
            "Epoch 83: saving model to /home/avaz/courses/w23/winter-project/hgr_go1_ws/src/go1_hgr_ros2/ros2_hgr/model/keypoint_classifier/keypoint_classifier.hdf5\n",
            "49/49 [==============================] - 0s 3ms/step - loss: 0.8905 - accuracy: 0.6680 - val_loss: 0.4865 - val_accuracy: 0.9224\n",
            "Epoch 84/1000\n",
            "31/49 [=================>............] - ETA: 0s - loss: 0.8898 - accuracy: 0.6706\n",
            "Epoch 84: saving model to /home/avaz/courses/w23/winter-project/hgr_go1_ws/src/go1_hgr_ros2/ros2_hgr/model/keypoint_classifier/keypoint_classifier.hdf5\n",
            "49/49 [==============================] - 0s 4ms/step - loss: 0.8889 - accuracy: 0.6698 - val_loss: 0.4944 - val_accuracy: 0.9239\n",
            "Epoch 85/1000\n",
            "27/49 [===============>..............] - ETA: 0s - loss: 0.8750 - accuracy: 0.6701\n",
            "Epoch 85: saving model to /home/avaz/courses/w23/winter-project/hgr_go1_ws/src/go1_hgr_ros2/ros2_hgr/model/keypoint_classifier/keypoint_classifier.hdf5\n",
            "49/49 [==============================] - 0s 3ms/step - loss: 0.8733 - accuracy: 0.6693 - val_loss: 0.4750 - val_accuracy: 0.9330\n",
            "Epoch 86/1000\n",
            "28/49 [================>.............] - ETA: 0s - loss: 0.8934 - accuracy: 0.6632\n",
            "Epoch 86: saving model to /home/avaz/courses/w23/winter-project/hgr_go1_ws/src/go1_hgr_ros2/ros2_hgr/model/keypoint_classifier/keypoint_classifier.hdf5\n",
            "49/49 [==============================] - 0s 3ms/step - loss: 0.8894 - accuracy: 0.6701 - val_loss: 0.4950 - val_accuracy: 0.9171\n",
            "Epoch 87/1000\n",
            "30/49 [=================>............] - ETA: 0s - loss: 0.8945 - accuracy: 0.6698\n",
            "Epoch 87: saving model to /home/avaz/courses/w23/winter-project/hgr_go1_ws/src/go1_hgr_ros2/ros2_hgr/model/keypoint_classifier/keypoint_classifier.hdf5\n",
            "49/49 [==============================] - 0s 3ms/step - loss: 0.8811 - accuracy: 0.6722 - val_loss: 0.4842 - val_accuracy: 0.9282\n",
            "Epoch 88/1000\n",
            "28/49 [================>.............] - ETA: 0s - loss: 0.8904 - accuracy: 0.6660\n",
            "Epoch 88: saving model to /home/avaz/courses/w23/winter-project/hgr_go1_ws/src/go1_hgr_ros2/ros2_hgr/model/keypoint_classifier/keypoint_classifier.hdf5\n",
            "49/49 [==============================] - 0s 3ms/step - loss: 0.8696 - accuracy: 0.6723 - val_loss: 0.4860 - val_accuracy: 0.9161\n",
            "Epoch 89/1000\n",
            "29/49 [================>.............] - ETA: 0s - loss: 0.8550 - accuracy: 0.6937\n",
            "Epoch 89: saving model to /home/avaz/courses/w23/winter-project/hgr_go1_ws/src/go1_hgr_ros2/ros2_hgr/model/keypoint_classifier/keypoint_classifier.hdf5\n",
            "49/49 [==============================] - 0s 3ms/step - loss: 0.8560 - accuracy: 0.6926 - val_loss: 0.4770 - val_accuracy: 0.9296\n",
            "Epoch 90/1000\n",
            "30/49 [=================>............] - ETA: 0s - loss: 0.8822 - accuracy: 0.6703\n",
            "Epoch 90: saving model to /home/avaz/courses/w23/winter-project/hgr_go1_ws/src/go1_hgr_ros2/ros2_hgr/model/keypoint_classifier/keypoint_classifier.hdf5\n",
            "49/49 [==============================] - 0s 3ms/step - loss: 0.8829 - accuracy: 0.6693 - val_loss: 0.4872 - val_accuracy: 0.9263\n",
            "Epoch 91/1000\n",
            "26/49 [==============>...............] - ETA: 0s - loss: 0.8737 - accuracy: 0.6743\n",
            "Epoch 91: saving model to /home/avaz/courses/w23/winter-project/hgr_go1_ws/src/go1_hgr_ros2/ros2_hgr/model/keypoint_classifier/keypoint_classifier.hdf5\n",
            "49/49 [==============================] - 0s 3ms/step - loss: 0.8795 - accuracy: 0.6695 - val_loss: 0.4761 - val_accuracy: 0.9277\n",
            "Epoch 92/1000\n",
            "30/49 [=================>............] - ETA: 0s - loss: 0.8483 - accuracy: 0.6807\n",
            "Epoch 92: saving model to /home/avaz/courses/w23/winter-project/hgr_go1_ws/src/go1_hgr_ros2/ros2_hgr/model/keypoint_classifier/keypoint_classifier.hdf5\n",
            "49/49 [==============================] - 0s 3ms/step - loss: 0.8492 - accuracy: 0.6855 - val_loss: 0.4744 - val_accuracy: 0.9316\n",
            "Epoch 93/1000\n",
            "29/49 [================>.............] - ETA: 0s - loss: 0.8691 - accuracy: 0.6727\n",
            "Epoch 93: saving model to /home/avaz/courses/w23/winter-project/hgr_go1_ws/src/go1_hgr_ros2/ros2_hgr/model/keypoint_classifier/keypoint_classifier.hdf5\n",
            "49/49 [==============================] - 0s 3ms/step - loss: 0.8551 - accuracy: 0.6776 - val_loss: 0.4707 - val_accuracy: 0.9301\n",
            "Epoch 94/1000\n",
            "29/49 [================>.............] - ETA: 0s - loss: 0.8676 - accuracy: 0.6746\n",
            "Epoch 94: saving model to /home/avaz/courses/w23/winter-project/hgr_go1_ws/src/go1_hgr_ros2/ros2_hgr/model/keypoint_classifier/keypoint_classifier.hdf5\n",
            "49/49 [==============================] - 0s 3ms/step - loss: 0.8590 - accuracy: 0.6767 - val_loss: 0.4743 - val_accuracy: 0.9210\n",
            "Epoch 95/1000\n",
            "31/49 [=================>............] - ETA: 0s - loss: 0.8528 - accuracy: 0.6842\n",
            "Epoch 95: saving model to /home/avaz/courses/w23/winter-project/hgr_go1_ws/src/go1_hgr_ros2/ros2_hgr/model/keypoint_classifier/keypoint_classifier.hdf5\n",
            "49/49 [==============================] - 0s 3ms/step - loss: 0.8548 - accuracy: 0.6823 - val_loss: 0.4679 - val_accuracy: 0.9229\n",
            "Epoch 96/1000\n",
            "28/49 [================>.............] - ETA: 0s - loss: 0.8465 - accuracy: 0.6950\n",
            "Epoch 96: saving model to /home/avaz/courses/w23/winter-project/hgr_go1_ws/src/go1_hgr_ros2/ros2_hgr/model/keypoint_classifier/keypoint_classifier.hdf5\n",
            "49/49 [==============================] - 0s 3ms/step - loss: 0.8546 - accuracy: 0.6902 - val_loss: 0.4709 - val_accuracy: 0.9195\n",
            "Epoch 97/1000\n",
            "43/49 [=========================>....] - ETA: 0s - loss: 0.8575 - accuracy: 0.6753\n",
            "Epoch 97: saving model to /home/avaz/courses/w23/winter-project/hgr_go1_ws/src/go1_hgr_ros2/ros2_hgr/model/keypoint_classifier/keypoint_classifier.hdf5\n",
            "49/49 [==============================] - 0s 4ms/step - loss: 0.8509 - accuracy: 0.6781 - val_loss: 0.4664 - val_accuracy: 0.9253\n",
            "Epoch 98/1000\n",
            "26/49 [==============>...............] - ETA: 0s - loss: 0.8489 - accuracy: 0.6845\n",
            "Epoch 98: saving model to /home/avaz/courses/w23/winter-project/hgr_go1_ws/src/go1_hgr_ros2/ros2_hgr/model/keypoint_classifier/keypoint_classifier.hdf5\n",
            "49/49 [==============================] - 0s 3ms/step - loss: 0.8733 - accuracy: 0.6764 - val_loss: 0.4731 - val_accuracy: 0.9200\n",
            "Epoch 99/1000\n",
            "29/49 [================>.............] - ETA: 0s - loss: 0.8613 - accuracy: 0.6791\n",
            "Epoch 99: saving model to /home/avaz/courses/w23/winter-project/hgr_go1_ws/src/go1_hgr_ros2/ros2_hgr/model/keypoint_classifier/keypoint_classifier.hdf5\n",
            "49/49 [==============================] - 0s 3ms/step - loss: 0.8600 - accuracy: 0.6818 - val_loss: 0.4602 - val_accuracy: 0.9320\n",
            "Epoch 100/1000\n",
            "29/49 [================>.............] - ETA: 0s - loss: 0.8514 - accuracy: 0.6802\n",
            "Epoch 100: saving model to /home/avaz/courses/w23/winter-project/hgr_go1_ws/src/go1_hgr_ros2/ros2_hgr/model/keypoint_classifier/keypoint_classifier.hdf5\n",
            "49/49 [==============================] - 0s 3ms/step - loss: 0.8663 - accuracy: 0.6738 - val_loss: 0.4673 - val_accuracy: 0.9272\n",
            "Epoch 101/1000\n",
            "26/49 [==============>...............] - ETA: 0s - loss: 0.8548 - accuracy: 0.6848\n",
            "Epoch 101: saving model to /home/avaz/courses/w23/winter-project/hgr_go1_ws/src/go1_hgr_ros2/ros2_hgr/model/keypoint_classifier/keypoint_classifier.hdf5\n",
            "49/49 [==============================] - 0s 3ms/step - loss: 0.8613 - accuracy: 0.6775 - val_loss: 0.4693 - val_accuracy: 0.9282\n",
            "Epoch 102/1000\n",
            "29/49 [================>.............] - ETA: 0s - loss: 0.8667 - accuracy: 0.6848\n",
            "Epoch 102: saving model to /home/avaz/courses/w23/winter-project/hgr_go1_ws/src/go1_hgr_ros2/ros2_hgr/model/keypoint_classifier/keypoint_classifier.hdf5\n",
            "49/49 [==============================] - 0s 3ms/step - loss: 0.8709 - accuracy: 0.6781 - val_loss: 0.4624 - val_accuracy: 0.9330\n",
            "Epoch 103/1000\n",
            "30/49 [=================>............] - ETA: 0s - loss: 0.8511 - accuracy: 0.6802\n",
            "Epoch 103: saving model to /home/avaz/courses/w23/winter-project/hgr_go1_ws/src/go1_hgr_ros2/ros2_hgr/model/keypoint_classifier/keypoint_classifier.hdf5\n",
            "49/49 [==============================] - 0s 3ms/step - loss: 0.8672 - accuracy: 0.6789 - val_loss: 0.4719 - val_accuracy: 0.9234\n",
            "Epoch 104/1000\n",
            "25/49 [==============>...............] - ETA: 0s - loss: 0.8583 - accuracy: 0.6775\n",
            "Epoch 104: saving model to /home/avaz/courses/w23/winter-project/hgr_go1_ws/src/go1_hgr_ros2/ros2_hgr/model/keypoint_classifier/keypoint_classifier.hdf5\n",
            "49/49 [==============================] - 0s 3ms/step - loss: 0.8457 - accuracy: 0.6865 - val_loss: 0.4554 - val_accuracy: 0.9325\n",
            "Epoch 105/1000\n",
            "44/49 [=========================>....] - ETA: 0s - loss: 0.8608 - accuracy: 0.6735\n",
            "Epoch 105: saving model to /home/avaz/courses/w23/winter-project/hgr_go1_ws/src/go1_hgr_ros2/ros2_hgr/model/keypoint_classifier/keypoint_classifier.hdf5\n",
            "49/49 [==============================] - 0s 4ms/step - loss: 0.8621 - accuracy: 0.6736 - val_loss: 0.4605 - val_accuracy: 0.9316\n",
            "Epoch 106/1000\n",
            "26/49 [==============>...............] - ETA: 0s - loss: 0.8361 - accuracy: 0.6866\n",
            "Epoch 106: saving model to /home/avaz/courses/w23/winter-project/hgr_go1_ws/src/go1_hgr_ros2/ros2_hgr/model/keypoint_classifier/keypoint_classifier.hdf5\n",
            "49/49 [==============================] - 0s 3ms/step - loss: 0.8436 - accuracy: 0.6839 - val_loss: 0.4646 - val_accuracy: 0.9277\n",
            "Epoch 107/1000\n",
            "29/49 [================>.............] - ETA: 0s - loss: 0.8341 - accuracy: 0.6905\n",
            "Epoch 107: saving model to /home/avaz/courses/w23/winter-project/hgr_go1_ws/src/go1_hgr_ros2/ros2_hgr/model/keypoint_classifier/keypoint_classifier.hdf5\n",
            "49/49 [==============================] - 0s 3ms/step - loss: 0.8253 - accuracy: 0.6934 - val_loss: 0.4598 - val_accuracy: 0.9243\n",
            "Epoch 108/1000\n",
            "27/49 [===============>..............] - ETA: 0s - loss: 0.8551 - accuracy: 0.6794\n",
            "Epoch 108: saving model to /home/avaz/courses/w23/winter-project/hgr_go1_ws/src/go1_hgr_ros2/ros2_hgr/model/keypoint_classifier/keypoint_classifier.hdf5\n",
            "49/49 [==============================] - 0s 3ms/step - loss: 0.8492 - accuracy: 0.6834 - val_loss: 0.4566 - val_accuracy: 0.9205\n",
            "Epoch 109/1000\n",
            "29/49 [================>.............] - ETA: 0s - loss: 0.8807 - accuracy: 0.6724\n",
            "Epoch 109: saving model to /home/avaz/courses/w23/winter-project/hgr_go1_ws/src/go1_hgr_ros2/ros2_hgr/model/keypoint_classifier/keypoint_classifier.hdf5\n",
            "49/49 [==============================] - 0s 3ms/step - loss: 0.8650 - accuracy: 0.6757 - val_loss: 0.4606 - val_accuracy: 0.9267\n",
            "Epoch 110/1000\n",
            "29/49 [================>.............] - ETA: 0s - loss: 0.8470 - accuracy: 0.6907\n",
            "Epoch 110: saving model to /home/avaz/courses/w23/winter-project/hgr_go1_ws/src/go1_hgr_ros2/ros2_hgr/model/keypoint_classifier/keypoint_classifier.hdf5\n",
            "49/49 [==============================] - 0s 3ms/step - loss: 0.8489 - accuracy: 0.6863 - val_loss: 0.4508 - val_accuracy: 0.9373\n",
            "Epoch 111/1000\n",
            "27/49 [===============>..............] - ETA: 0s - loss: 0.8709 - accuracy: 0.6652\n",
            "Epoch 111: saving model to /home/avaz/courses/w23/winter-project/hgr_go1_ws/src/go1_hgr_ros2/ros2_hgr/model/keypoint_classifier/keypoint_classifier.hdf5\n",
            "49/49 [==============================] - 0s 3ms/step - loss: 0.8589 - accuracy: 0.6788 - val_loss: 0.4468 - val_accuracy: 0.9398\n",
            "Epoch 112/1000\n",
            "27/49 [===============>..............] - ETA: 0s - loss: 0.8230 - accuracy: 0.6950\n",
            "Epoch 112: saving model to /home/avaz/courses/w23/winter-project/hgr_go1_ws/src/go1_hgr_ros2/ros2_hgr/model/keypoint_classifier/keypoint_classifier.hdf5\n",
            "49/49 [==============================] - 0s 3ms/step - loss: 0.8430 - accuracy: 0.6821 - val_loss: 0.4655 - val_accuracy: 0.9142\n",
            "Epoch 113/1000\n",
            "49/49 [==============================] - ETA: 0s - loss: 0.8364 - accuracy: 0.6923\n",
            "Epoch 113: saving model to /home/avaz/courses/w23/winter-project/hgr_go1_ws/src/go1_hgr_ros2/ros2_hgr/model/keypoint_classifier/keypoint_classifier.hdf5\n",
            "49/49 [==============================] - 0s 4ms/step - loss: 0.8364 - accuracy: 0.6923 - val_loss: 0.4588 - val_accuracy: 0.9253\n",
            "Epoch 114/1000\n",
            "30/49 [=================>............] - ETA: 0s - loss: 0.8204 - accuracy: 0.6898\n",
            "Epoch 114: saving model to /home/avaz/courses/w23/winter-project/hgr_go1_ws/src/go1_hgr_ros2/ros2_hgr/model/keypoint_classifier/keypoint_classifier.hdf5\n",
            "49/49 [==============================] - 0s 3ms/step - loss: 0.8358 - accuracy: 0.6854 - val_loss: 0.4574 - val_accuracy: 0.9161\n",
            "Epoch 115/1000\n",
            "29/49 [================>.............] - ETA: 0s - loss: 0.8271 - accuracy: 0.6853\n",
            "Epoch 115: saving model to /home/avaz/courses/w23/winter-project/hgr_go1_ws/src/go1_hgr_ros2/ros2_hgr/model/keypoint_classifier/keypoint_classifier.hdf5\n",
            "49/49 [==============================] - 0s 3ms/step - loss: 0.8424 - accuracy: 0.6826 - val_loss: 0.4436 - val_accuracy: 0.9296\n",
            "Epoch 116/1000\n",
            "29/49 [================>.............] - ETA: 0s - loss: 0.8515 - accuracy: 0.6781\n",
            "Epoch 116: saving model to /home/avaz/courses/w23/winter-project/hgr_go1_ws/src/go1_hgr_ros2/ros2_hgr/model/keypoint_classifier/keypoint_classifier.hdf5\n",
            "49/49 [==============================] - 0s 3ms/step - loss: 0.8369 - accuracy: 0.6804 - val_loss: 0.4502 - val_accuracy: 0.9234\n",
            "Epoch 117/1000\n",
            "31/49 [=================>............] - ETA: 0s - loss: 0.8646 - accuracy: 0.6835\n",
            "Epoch 117: saving model to /home/avaz/courses/w23/winter-project/hgr_go1_ws/src/go1_hgr_ros2/ros2_hgr/model/keypoint_classifier/keypoint_classifier.hdf5\n",
            "49/49 [==============================] - 0s 3ms/step - loss: 0.8546 - accuracy: 0.6871 - val_loss: 0.4603 - val_accuracy: 0.9190\n",
            "Epoch 118/1000\n",
            "27/49 [===============>..............] - ETA: 0s - loss: 0.8274 - accuracy: 0.6962\n",
            "Epoch 118: saving model to /home/avaz/courses/w23/winter-project/hgr_go1_ws/src/go1_hgr_ros2/ros2_hgr/model/keypoint_classifier/keypoint_classifier.hdf5\n",
            "49/49 [==============================] - 0s 3ms/step - loss: 0.8352 - accuracy: 0.6916 - val_loss: 0.4535 - val_accuracy: 0.9214\n",
            "Epoch 119/1000\n",
            "28/49 [================>.............] - ETA: 0s - loss: 0.8234 - accuracy: 0.6950\n",
            "Epoch 119: saving model to /home/avaz/courses/w23/winter-project/hgr_go1_ws/src/go1_hgr_ros2/ros2_hgr/model/keypoint_classifier/keypoint_classifier.hdf5\n",
            "49/49 [==============================] - 0s 3ms/step - loss: 0.8274 - accuracy: 0.6928 - val_loss: 0.4495 - val_accuracy: 0.9258\n",
            "Epoch 120/1000\n",
            "28/49 [================>.............] - ETA: 0s - loss: 0.8458 - accuracy: 0.6839\n",
            "Epoch 120: saving model to /home/avaz/courses/w23/winter-project/hgr_go1_ws/src/go1_hgr_ros2/ros2_hgr/model/keypoint_classifier/keypoint_classifier.hdf5\n",
            "49/49 [==============================] - 0s 3ms/step - loss: 0.8368 - accuracy: 0.6868 - val_loss: 0.4559 - val_accuracy: 0.9123\n",
            "Epoch 121/1000\n",
            "43/49 [=========================>....] - ETA: 0s - loss: 0.8309 - accuracy: 0.6846\n",
            "Epoch 121: saving model to /home/avaz/courses/w23/winter-project/hgr_go1_ws/src/go1_hgr_ros2/ros2_hgr/model/keypoint_classifier/keypoint_classifier.hdf5\n",
            "49/49 [==============================] - 0s 4ms/step - loss: 0.8380 - accuracy: 0.6826 - val_loss: 0.4489 - val_accuracy: 0.9282\n",
            "Epoch 122/1000\n",
            "26/49 [==============>...............] - ETA: 0s - loss: 0.8289 - accuracy: 0.6938\n",
            "Epoch 122: saving model to /home/avaz/courses/w23/winter-project/hgr_go1_ws/src/go1_hgr_ros2/ros2_hgr/model/keypoint_classifier/keypoint_classifier.hdf5\n",
            "49/49 [==============================] - 0s 3ms/step - loss: 0.8280 - accuracy: 0.6931 - val_loss: 0.4447 - val_accuracy: 0.9301\n",
            "Epoch 123/1000\n",
            "29/49 [================>.............] - ETA: 0s - loss: 0.8284 - accuracy: 0.6977\n",
            "Epoch 123: saving model to /home/avaz/courses/w23/winter-project/hgr_go1_ws/src/go1_hgr_ros2/ros2_hgr/model/keypoint_classifier/keypoint_classifier.hdf5\n",
            "49/49 [==============================] - 0s 3ms/step - loss: 0.8239 - accuracy: 0.6899 - val_loss: 0.4507 - val_accuracy: 0.9224\n",
            "Epoch 124/1000\n",
            "29/49 [================>.............] - ETA: 0s - loss: 0.8475 - accuracy: 0.6883\n",
            "Epoch 124: saving model to /home/avaz/courses/w23/winter-project/hgr_go1_ws/src/go1_hgr_ros2/ros2_hgr/model/keypoint_classifier/keypoint_classifier.hdf5\n",
            "49/49 [==============================] - 0s 3ms/step - loss: 0.8323 - accuracy: 0.6902 - val_loss: 0.4462 - val_accuracy: 0.9306\n",
            "Epoch 125/1000\n",
            "30/49 [=================>............] - ETA: 0s - loss: 0.8253 - accuracy: 0.6878\n",
            "Epoch 125: saving model to /home/avaz/courses/w23/winter-project/hgr_go1_ws/src/go1_hgr_ros2/ros2_hgr/model/keypoint_classifier/keypoint_classifier.hdf5\n",
            "49/49 [==============================] - 0s 3ms/step - loss: 0.8239 - accuracy: 0.6903 - val_loss: 0.4524 - val_accuracy: 0.9104\n",
            "Epoch 126/1000\n",
            "30/49 [=================>............] - ETA: 0s - loss: 0.8427 - accuracy: 0.6893\n",
            "Epoch 126: saving model to /home/avaz/courses/w23/winter-project/hgr_go1_ws/src/go1_hgr_ros2/ros2_hgr/model/keypoint_classifier/keypoint_classifier.hdf5\n",
            "49/49 [==============================] - 0s 3ms/step - loss: 0.8337 - accuracy: 0.6876 - val_loss: 0.4591 - val_accuracy: 0.9017\n",
            "Epoch 127/1000\n",
            "29/49 [================>.............] - ETA: 0s - loss: 0.8667 - accuracy: 0.6791\n",
            "Epoch 127: saving model to /home/avaz/courses/w23/winter-project/hgr_go1_ws/src/go1_hgr_ros2/ros2_hgr/model/keypoint_classifier/keypoint_classifier.hdf5\n",
            "49/49 [==============================] - 0s 3ms/step - loss: 0.8649 - accuracy: 0.6817 - val_loss: 0.4568 - val_accuracy: 0.9176\n",
            "Epoch 128/1000\n",
            "31/49 [=================>............] - ETA: 0s - loss: 0.8352 - accuracy: 0.6875\n",
            "Epoch 128: saving model to /home/avaz/courses/w23/winter-project/hgr_go1_ws/src/go1_hgr_ros2/ros2_hgr/model/keypoint_classifier/keypoint_classifier.hdf5\n",
            "49/49 [==============================] - 0s 3ms/step - loss: 0.8292 - accuracy: 0.6892 - val_loss: 0.4538 - val_accuracy: 0.9094\n",
            "Epoch 129/1000\n",
            "28/49 [================>.............] - ETA: 0s - loss: 0.8137 - accuracy: 0.7031\n",
            "Epoch 129: saving model to /home/avaz/courses/w23/winter-project/hgr_go1_ws/src/go1_hgr_ros2/ros2_hgr/model/keypoint_classifier/keypoint_classifier.hdf5\n",
            "49/49 [==============================] - 0s 3ms/step - loss: 0.8127 - accuracy: 0.6995 - val_loss: 0.4394 - val_accuracy: 0.9248\n",
            "Epoch 130/1000\n",
            "30/49 [=================>............] - ETA: 0s - loss: 0.8500 - accuracy: 0.6854\n",
            "Epoch 130: saving model to /home/avaz/courses/w23/winter-project/hgr_go1_ws/src/go1_hgr_ros2/ros2_hgr/model/keypoint_classifier/keypoint_classifier.hdf5\n",
            "49/49 [==============================] - 0s 3ms/step - loss: 0.8529 - accuracy: 0.6802 - val_loss: 0.4565 - val_accuracy: 0.8954\n",
            "Epoch 131/1000\n",
            "30/49 [=================>............] - ETA: 0s - loss: 0.8396 - accuracy: 0.6852\n",
            "Epoch 131: saving model to /home/avaz/courses/w23/winter-project/hgr_go1_ws/src/go1_hgr_ros2/ros2_hgr/model/keypoint_classifier/keypoint_classifier.hdf5\n",
            "49/49 [==============================] - 0s 3ms/step - loss: 0.8312 - accuracy: 0.6883 - val_loss: 0.4429 - val_accuracy: 0.9325\n",
            "Epoch 132/1000\n",
            "25/49 [==============>...............] - ETA: 0s - loss: 0.8329 - accuracy: 0.6888\n",
            "Epoch 132: saving model to /home/avaz/courses/w23/winter-project/hgr_go1_ws/src/go1_hgr_ros2/ros2_hgr/model/keypoint_classifier/keypoint_classifier.hdf5\n",
            "49/49 [==============================] - 0s 3ms/step - loss: 0.8182 - accuracy: 0.6924 - val_loss: 0.4292 - val_accuracy: 0.9364\n",
            "Epoch 133/1000\n",
            "28/49 [================>.............] - ETA: 0s - loss: 0.8241 - accuracy: 0.7017\n",
            "Epoch 133: saving model to /home/avaz/courses/w23/winter-project/hgr_go1_ws/src/go1_hgr_ros2/ros2_hgr/model/keypoint_classifier/keypoint_classifier.hdf5\n",
            "49/49 [==============================] - 0s 3ms/step - loss: 0.8234 - accuracy: 0.6985 - val_loss: 0.4462 - val_accuracy: 0.9234\n",
            "Epoch 134/1000\n",
            "31/49 [=================>............] - ETA: 0s - loss: 0.8416 - accuracy: 0.6867\n",
            "Epoch 134: saving model to /home/avaz/courses/w23/winter-project/hgr_go1_ws/src/go1_hgr_ros2/ros2_hgr/model/keypoint_classifier/keypoint_classifier.hdf5\n",
            "49/49 [==============================] - 0s 3ms/step - loss: 0.8327 - accuracy: 0.6903 - val_loss: 0.4555 - val_accuracy: 0.9075\n",
            "Epoch 135/1000\n",
            "29/49 [================>.............] - ETA: 0s - loss: 0.8379 - accuracy: 0.6837\n",
            "Epoch 135: saving model to /home/avaz/courses/w23/winter-project/hgr_go1_ws/src/go1_hgr_ros2/ros2_hgr/model/keypoint_classifier/keypoint_classifier.hdf5\n",
            "49/49 [==============================] - 0s 3ms/step - loss: 0.8385 - accuracy: 0.6865 - val_loss: 0.4521 - val_accuracy: 0.9234\n",
            "Epoch 136/1000\n",
            "28/49 [================>.............] - ETA: 0s - loss: 0.8440 - accuracy: 0.6825\n",
            "Epoch 136: saving model to /home/avaz/courses/w23/winter-project/hgr_go1_ws/src/go1_hgr_ros2/ros2_hgr/model/keypoint_classifier/keypoint_classifier.hdf5\n",
            "49/49 [==============================] - 0s 3ms/step - loss: 0.8336 - accuracy: 0.6847 - val_loss: 0.4385 - val_accuracy: 0.9320\n",
            "Epoch 137/1000\n",
            "38/49 [======================>.......] - ETA: 0s - loss: 0.8350 - accuracy: 0.6768\n",
            "Epoch 137: saving model to /home/avaz/courses/w23/winter-project/hgr_go1_ws/src/go1_hgr_ros2/ros2_hgr/model/keypoint_classifier/keypoint_classifier.hdf5\n",
            "49/49 [==============================] - 0s 4ms/step - loss: 0.8385 - accuracy: 0.6776 - val_loss: 0.4520 - val_accuracy: 0.8940\n",
            "Epoch 138/1000\n",
            "30/49 [=================>............] - ETA: 0s - loss: 0.8230 - accuracy: 0.6885\n",
            "Epoch 138: saving model to /home/avaz/courses/w23/winter-project/hgr_go1_ws/src/go1_hgr_ros2/ros2_hgr/model/keypoint_classifier/keypoint_classifier.hdf5\n",
            "49/49 [==============================] - 0s 3ms/step - loss: 0.8205 - accuracy: 0.6883 - val_loss: 0.4430 - val_accuracy: 0.9282\n",
            "Epoch 139/1000\n",
            "26/49 [==============>...............] - ETA: 0s - loss: 0.8077 - accuracy: 0.6974\n",
            "Epoch 139: saving model to /home/avaz/courses/w23/winter-project/hgr_go1_ws/src/go1_hgr_ros2/ros2_hgr/model/keypoint_classifier/keypoint_classifier.hdf5\n",
            "49/49 [==============================] - 0s 3ms/step - loss: 0.8237 - accuracy: 0.6918 - val_loss: 0.4568 - val_accuracy: 0.9080\n",
            "Epoch 140/1000\n",
            "28/49 [================>.............] - ETA: 0s - loss: 0.8300 - accuracy: 0.6842\n",
            "Epoch 140: saving model to /home/avaz/courses/w23/winter-project/hgr_go1_ws/src/go1_hgr_ros2/ros2_hgr/model/keypoint_classifier/keypoint_classifier.hdf5\n",
            "49/49 [==============================] - 0s 3ms/step - loss: 0.8360 - accuracy: 0.6817 - val_loss: 0.4381 - val_accuracy: 0.9272\n",
            "Epoch 141/1000\n",
            "30/49 [=================>............] - ETA: 0s - loss: 0.8235 - accuracy: 0.6922\n",
            "Epoch 141: saving model to /home/avaz/courses/w23/winter-project/hgr_go1_ws/src/go1_hgr_ros2/ros2_hgr/model/keypoint_classifier/keypoint_classifier.hdf5\n",
            "49/49 [==============================] - 0s 3ms/step - loss: 0.8195 - accuracy: 0.6934 - val_loss: 0.4500 - val_accuracy: 0.9176\n",
            "Epoch 142/1000\n",
            "31/49 [=================>............] - ETA: 0s - loss: 0.8065 - accuracy: 0.7077\n",
            "Epoch 142: saving model to /home/avaz/courses/w23/winter-project/hgr_go1_ws/src/go1_hgr_ros2/ros2_hgr/model/keypoint_classifier/keypoint_classifier.hdf5\n",
            "49/49 [==============================] - 0s 3ms/step - loss: 0.8122 - accuracy: 0.7032 - val_loss: 0.4267 - val_accuracy: 0.9301\n",
            "Epoch 143/1000\n",
            "30/49 [=================>............] - ETA: 0s - loss: 0.8144 - accuracy: 0.6971\n",
            "Epoch 143: saving model to /home/avaz/courses/w23/winter-project/hgr_go1_ws/src/go1_hgr_ros2/ros2_hgr/model/keypoint_classifier/keypoint_classifier.hdf5\n",
            "49/49 [==============================] - 0s 3ms/step - loss: 0.8114 - accuracy: 0.6908 - val_loss: 0.4464 - val_accuracy: 0.9200\n",
            "Epoch 144/1000\n",
            "27/49 [===============>..............] - ETA: 0s - loss: 0.8424 - accuracy: 0.6863\n",
            "Epoch 144: saving model to /home/avaz/courses/w23/winter-project/hgr_go1_ws/src/go1_hgr_ros2/ros2_hgr/model/keypoint_classifier/keypoint_classifier.hdf5\n",
            "49/49 [==============================] - 0s 4ms/step - loss: 0.8125 - accuracy: 0.6948 - val_loss: 0.4289 - val_accuracy: 0.9195\n",
            "Epoch 145/1000\n",
            "29/49 [================>.............] - ETA: 0s - loss: 0.8028 - accuracy: 0.7012\n",
            "Epoch 145: saving model to /home/avaz/courses/w23/winter-project/hgr_go1_ws/src/go1_hgr_ros2/ros2_hgr/model/keypoint_classifier/keypoint_classifier.hdf5\n",
            "49/49 [==============================] - 0s 3ms/step - loss: 0.8053 - accuracy: 0.7026 - val_loss: 0.4395 - val_accuracy: 0.9253\n",
            "Epoch 146/1000\n",
            "27/49 [===============>..............] - ETA: 0s - loss: 0.8280 - accuracy: 0.6939\n",
            "Epoch 146: saving model to /home/avaz/courses/w23/winter-project/hgr_go1_ws/src/go1_hgr_ros2/ros2_hgr/model/keypoint_classifier/keypoint_classifier.hdf5\n",
            "49/49 [==============================] - 0s 3ms/step - loss: 0.8261 - accuracy: 0.6918 - val_loss: 0.4405 - val_accuracy: 0.9161\n",
            "Epoch 147/1000\n",
            "30/49 [=================>............] - ETA: 0s - loss: 0.8106 - accuracy: 0.6990\n",
            "Epoch 147: saving model to /home/avaz/courses/w23/winter-project/hgr_go1_ws/src/go1_hgr_ros2/ros2_hgr/model/keypoint_classifier/keypoint_classifier.hdf5\n",
            "49/49 [==============================] - 0s 3ms/step - loss: 0.8158 - accuracy: 0.6947 - val_loss: 0.4386 - val_accuracy: 0.9166\n",
            "Epoch 148/1000\n",
            "30/49 [=================>............] - ETA: 0s - loss: 0.8259 - accuracy: 0.6888\n",
            "Epoch 148: saving model to /home/avaz/courses/w23/winter-project/hgr_go1_ws/src/go1_hgr_ros2/ros2_hgr/model/keypoint_classifier/keypoint_classifier.hdf5\n",
            "49/49 [==============================] - 0s 3ms/step - loss: 0.8204 - accuracy: 0.6913 - val_loss: 0.4450 - val_accuracy: 0.9161\n",
            "Epoch 149/1000\n",
            "30/49 [=================>............] - ETA: 0s - loss: 0.7968 - accuracy: 0.7008\n",
            "Epoch 149: saving model to /home/avaz/courses/w23/winter-project/hgr_go1_ws/src/go1_hgr_ros2/ros2_hgr/model/keypoint_classifier/keypoint_classifier.hdf5\n",
            "49/49 [==============================] - 0s 3ms/step - loss: 0.8166 - accuracy: 0.6961 - val_loss: 0.4336 - val_accuracy: 0.9325\n",
            "Epoch 150/1000\n",
            "25/49 [==============>...............] - ETA: 0s - loss: 0.8171 - accuracy: 0.6919\n",
            "Epoch 150: saving model to /home/avaz/courses/w23/winter-project/hgr_go1_ws/src/go1_hgr_ros2/ros2_hgr/model/keypoint_classifier/keypoint_classifier.hdf5\n",
            "49/49 [==============================] - 0s 3ms/step - loss: 0.8088 - accuracy: 0.6928 - val_loss: 0.4318 - val_accuracy: 0.9272\n",
            "Epoch 151/1000\n",
            "30/49 [=================>............] - ETA: 0s - loss: 0.8218 - accuracy: 0.6924\n",
            "Epoch 151: saving model to /home/avaz/courses/w23/winter-project/hgr_go1_ws/src/go1_hgr_ros2/ros2_hgr/model/keypoint_classifier/keypoint_classifier.hdf5\n",
            "49/49 [==============================] - 0s 3ms/step - loss: 0.8166 - accuracy: 0.6940 - val_loss: 0.4378 - val_accuracy: 0.9292\n",
            "Epoch 152/1000\n",
            "38/49 [======================>.......] - ETA: 0s - loss: 0.8174 - accuracy: 0.6949\n",
            "Epoch 152: saving model to /home/avaz/courses/w23/winter-project/hgr_go1_ws/src/go1_hgr_ros2/ros2_hgr/model/keypoint_classifier/keypoint_classifier.hdf5\n",
            "49/49 [==============================] - 0s 4ms/step - loss: 0.8221 - accuracy: 0.6953 - val_loss: 0.4325 - val_accuracy: 0.9267\n",
            "Epoch 153/1000\n",
            "27/49 [===============>..............] - ETA: 0s - loss: 0.8191 - accuracy: 0.6913\n",
            "Epoch 153: saving model to /home/avaz/courses/w23/winter-project/hgr_go1_ws/src/go1_hgr_ros2/ros2_hgr/model/keypoint_classifier/keypoint_classifier.hdf5\n",
            "49/49 [==============================] - 0s 3ms/step - loss: 0.8041 - accuracy: 0.6950 - val_loss: 0.4349 - val_accuracy: 0.9239\n",
            "Epoch 154/1000\n",
            "29/49 [================>.............] - ETA: 0s - loss: 0.8183 - accuracy: 0.6862\n",
            "Epoch 154: saving model to /home/avaz/courses/w23/winter-project/hgr_go1_ws/src/go1_hgr_ros2/ros2_hgr/model/keypoint_classifier/keypoint_classifier.hdf5\n",
            "49/49 [==============================] - 0s 3ms/step - loss: 0.8050 - accuracy: 0.6945 - val_loss: 0.4304 - val_accuracy: 0.9282\n",
            "Epoch 155/1000\n",
            "29/49 [================>.............] - ETA: 0s - loss: 0.8043 - accuracy: 0.7064\n",
            "Epoch 155: saving model to /home/avaz/courses/w23/winter-project/hgr_go1_ws/src/go1_hgr_ros2/ros2_hgr/model/keypoint_classifier/keypoint_classifier.hdf5\n",
            "49/49 [==============================] - 0s 3ms/step - loss: 0.8174 - accuracy: 0.6929 - val_loss: 0.4450 - val_accuracy: 0.9099\n",
            "Epoch 156/1000\n",
            "28/49 [================>.............] - ETA: 0s - loss: 0.7989 - accuracy: 0.7012\n",
            "Epoch 156: saving model to /home/avaz/courses/w23/winter-project/hgr_go1_ws/src/go1_hgr_ros2/ros2_hgr/model/keypoint_classifier/keypoint_classifier.hdf5\n",
            "49/49 [==============================] - 0s 3ms/step - loss: 0.8007 - accuracy: 0.7021 - val_loss: 0.4413 - val_accuracy: 0.9137\n",
            "Epoch 157/1000\n",
            "28/49 [================>.............] - ETA: 0s - loss: 0.8088 - accuracy: 0.6995\n",
            "Epoch 157: saving model to /home/avaz/courses/w23/winter-project/hgr_go1_ws/src/go1_hgr_ros2/ros2_hgr/model/keypoint_classifier/keypoint_classifier.hdf5\n",
            "49/49 [==============================] - 0s 3ms/step - loss: 0.8086 - accuracy: 0.6950 - val_loss: 0.4210 - val_accuracy: 0.9253\n",
            "Epoch 158/1000\n",
            "30/49 [=================>............] - ETA: 0s - loss: 0.8115 - accuracy: 0.7005\n",
            "Epoch 158: saving model to /home/avaz/courses/w23/winter-project/hgr_go1_ws/src/go1_hgr_ros2/ros2_hgr/model/keypoint_classifier/keypoint_classifier.hdf5\n",
            "49/49 [==============================] - 0s 3ms/step - loss: 0.8181 - accuracy: 0.6971 - val_loss: 0.4397 - val_accuracy: 0.9166\n",
            "Epoch 159/1000\n",
            "39/49 [======================>.......] - ETA: 0s - loss: 0.8145 - accuracy: 0.6867\n",
            "Epoch 159: saving model to /home/avaz/courses/w23/winter-project/hgr_go1_ws/src/go1_hgr_ros2/ros2_hgr/model/keypoint_classifier/keypoint_classifier.hdf5\n",
            "49/49 [==============================] - 0s 4ms/step - loss: 0.8153 - accuracy: 0.6892 - val_loss: 0.4391 - val_accuracy: 0.9065\n",
            "Epoch 160/1000\n",
            "29/49 [================>.............] - ETA: 0s - loss: 0.8141 - accuracy: 0.6950\n",
            "Epoch 160: saving model to /home/avaz/courses/w23/winter-project/hgr_go1_ws/src/go1_hgr_ros2/ros2_hgr/model/keypoint_classifier/keypoint_classifier.hdf5\n",
            "49/49 [==============================] - 0s 3ms/step - loss: 0.8057 - accuracy: 0.6977 - val_loss: 0.4345 - val_accuracy: 0.9128\n",
            "Epoch 161/1000\n",
            "28/49 [================>.............] - ETA: 0s - loss: 0.8099 - accuracy: 0.7017\n",
            "Epoch 161: saving model to /home/avaz/courses/w23/winter-project/hgr_go1_ws/src/go1_hgr_ros2/ros2_hgr/model/keypoint_classifier/keypoint_classifier.hdf5\n",
            "49/49 [==============================] - 0s 3ms/step - loss: 0.8099 - accuracy: 0.7032 - val_loss: 0.4590 - val_accuracy: 0.8935\n",
            "Epoch 162/1000\n",
            "28/49 [================>.............] - ETA: 0s - loss: 0.8067 - accuracy: 0.6844\n",
            "Epoch 162: saving model to /home/avaz/courses/w23/winter-project/hgr_go1_ws/src/go1_hgr_ros2/ros2_hgr/model/keypoint_classifier/keypoint_classifier.hdf5\n",
            "49/49 [==============================] - 0s 3ms/step - loss: 0.7975 - accuracy: 0.6953 - val_loss: 0.4337 - val_accuracy: 0.9186\n",
            "Epoch 163/1000\n",
            "29/49 [================>.............] - ETA: 0s - loss: 0.8171 - accuracy: 0.6959\n",
            "Epoch 163: saving model to /home/avaz/courses/w23/winter-project/hgr_go1_ws/src/go1_hgr_ros2/ros2_hgr/model/keypoint_classifier/keypoint_classifier.hdf5\n",
            "49/49 [==============================] - 0s 3ms/step - loss: 0.8089 - accuracy: 0.6948 - val_loss: 0.4354 - val_accuracy: 0.9113\n",
            "Epoch 164/1000\n",
            "28/49 [================>.............] - ETA: 0s - loss: 0.8231 - accuracy: 0.7001\n",
            "Epoch 164: saving model to /home/avaz/courses/w23/winter-project/hgr_go1_ws/src/go1_hgr_ros2/ros2_hgr/model/keypoint_classifier/keypoint_classifier.hdf5\n",
            "49/49 [==============================] - 0s 3ms/step - loss: 0.8160 - accuracy: 0.6966 - val_loss: 0.4313 - val_accuracy: 0.9128\n",
            "Epoch 165/1000\n",
            "25/49 [==============>...............] - ETA: 0s - loss: 0.7994 - accuracy: 0.6972\n",
            "Epoch 165: saving model to /home/avaz/courses/w23/winter-project/hgr_go1_ws/src/go1_hgr_ros2/ros2_hgr/model/keypoint_classifier/keypoint_classifier.hdf5\n",
            "49/49 [==============================] - 0s 3ms/step - loss: 0.8166 - accuracy: 0.6823 - val_loss: 0.4393 - val_accuracy: 0.9080\n",
            "Epoch 166/1000\n",
            "44/49 [=========================>....] - ETA: 0s - loss: 0.8066 - accuracy: 0.6955\n",
            "Epoch 166: saving model to /home/avaz/courses/w23/winter-project/hgr_go1_ws/src/go1_hgr_ros2/ros2_hgr/model/keypoint_classifier/keypoint_classifier.hdf5\n",
            "49/49 [==============================] - 0s 4ms/step - loss: 0.8049 - accuracy: 0.6976 - val_loss: 0.4216 - val_accuracy: 0.9277\n",
            "Epoch 167/1000\n",
            "29/49 [================>.............] - ETA: 0s - loss: 0.8183 - accuracy: 0.6988\n",
            "Epoch 167: saving model to /home/avaz/courses/w23/winter-project/hgr_go1_ws/src/go1_hgr_ros2/ros2_hgr/model/keypoint_classifier/keypoint_classifier.hdf5\n",
            "49/49 [==============================] - 0s 3ms/step - loss: 0.8009 - accuracy: 0.6987 - val_loss: 0.4287 - val_accuracy: 0.9166\n",
            "Epoch 168/1000\n",
            "27/49 [===============>..............] - ETA: 0s - loss: 0.7940 - accuracy: 0.6985\n",
            "Epoch 168: saving model to /home/avaz/courses/w23/winter-project/hgr_go1_ws/src/go1_hgr_ros2/ros2_hgr/model/keypoint_classifier/keypoint_classifier.hdf5\n",
            "49/49 [==============================] - 0s 3ms/step - loss: 0.7961 - accuracy: 0.7000 - val_loss: 0.4329 - val_accuracy: 0.9157\n",
            "Epoch 169/1000\n",
            "30/49 [=================>............] - ETA: 0s - loss: 0.8295 - accuracy: 0.6828\n",
            "Epoch 169: saving model to /home/avaz/courses/w23/winter-project/hgr_go1_ws/src/go1_hgr_ros2/ros2_hgr/model/keypoint_classifier/keypoint_classifier.hdf5\n",
            "49/49 [==============================] - 0s 3ms/step - loss: 0.8048 - accuracy: 0.6948 - val_loss: 0.4411 - val_accuracy: 0.9089\n",
            "Epoch 170/1000\n",
            "28/49 [================>.............] - ETA: 0s - loss: 0.8173 - accuracy: 0.6931\n",
            "Epoch 170: saving model to /home/avaz/courses/w23/winter-project/hgr_go1_ws/src/go1_hgr_ros2/ros2_hgr/model/keypoint_classifier/keypoint_classifier.hdf5\n",
            "49/49 [==============================] - 0s 3ms/step - loss: 0.8046 - accuracy: 0.6966 - val_loss: 0.4337 - val_accuracy: 0.9176\n",
            "Epoch 171/1000\n",
            "26/49 [==============>...............] - ETA: 0s - loss: 0.7817 - accuracy: 0.7079\n",
            "Epoch 171: saving model to /home/avaz/courses/w23/winter-project/hgr_go1_ws/src/go1_hgr_ros2/ros2_hgr/model/keypoint_classifier/keypoint_classifier.hdf5\n",
            "49/49 [==============================] - 0s 3ms/step - loss: 0.7847 - accuracy: 0.7043 - val_loss: 0.4282 - val_accuracy: 0.9224\n",
            "Epoch 172/1000\n",
            "29/49 [================>.............] - ETA: 0s - loss: 0.8090 - accuracy: 0.6926\n",
            "Epoch 172: saving model to /home/avaz/courses/w23/winter-project/hgr_go1_ws/src/go1_hgr_ros2/ros2_hgr/model/keypoint_classifier/keypoint_classifier.hdf5\n",
            "49/49 [==============================] - 0s 3ms/step - loss: 0.8165 - accuracy: 0.6923 - val_loss: 0.4443 - val_accuracy: 0.9051\n",
            "Epoch 173/1000\n",
            "32/49 [==================>...........] - ETA: 0s - loss: 0.8001 - accuracy: 0.7068\n",
            "Epoch 173: saving model to /home/avaz/courses/w23/winter-project/hgr_go1_ws/src/go1_hgr_ros2/ros2_hgr/model/keypoint_classifier/keypoint_classifier.hdf5\n",
            "49/49 [==============================] - 0s 4ms/step - loss: 0.8140 - accuracy: 0.6984 - val_loss: 0.4455 - val_accuracy: 0.9186\n",
            "Epoch 174/1000\n",
            "27/49 [===============>..............] - ETA: 0s - loss: 0.8279 - accuracy: 0.6820\n",
            "Epoch 174: saving model to /home/avaz/courses/w23/winter-project/hgr_go1_ws/src/go1_hgr_ros2/ros2_hgr/model/keypoint_classifier/keypoint_classifier.hdf5\n",
            "49/49 [==============================] - 0s 3ms/step - loss: 0.8105 - accuracy: 0.6884 - val_loss: 0.4511 - val_accuracy: 0.9166\n",
            "Epoch 175/1000\n",
            "27/49 [===============>..............] - ETA: 0s - loss: 0.7990 - accuracy: 0.6953\n",
            "Epoch 175: saving model to /home/avaz/courses/w23/winter-project/hgr_go1_ws/src/go1_hgr_ros2/ros2_hgr/model/keypoint_classifier/keypoint_classifier.hdf5\n",
            "49/49 [==============================] - 0s 3ms/step - loss: 0.8036 - accuracy: 0.6958 - val_loss: 0.4396 - val_accuracy: 0.9060\n",
            "Epoch 176/1000\n",
            "30/49 [=================>............] - ETA: 0s - loss: 0.7900 - accuracy: 0.7063\n",
            "Epoch 176: saving model to /home/avaz/courses/w23/winter-project/hgr_go1_ws/src/go1_hgr_ros2/ros2_hgr/model/keypoint_classifier/keypoint_classifier.hdf5\n",
            "49/49 [==============================] - 0s 3ms/step - loss: 0.7852 - accuracy: 0.7059 - val_loss: 0.4312 - val_accuracy: 0.9253\n",
            "Epoch 177/1000\n",
            "28/49 [================>.............] - ETA: 0s - loss: 0.8104 - accuracy: 0.6881\n",
            "Epoch 177: saving model to /home/avaz/courses/w23/winter-project/hgr_go1_ws/src/go1_hgr_ros2/ros2_hgr/model/keypoint_classifier/keypoint_classifier.hdf5\n",
            "49/49 [==============================] - 0s 3ms/step - loss: 0.8195 - accuracy: 0.6924 - val_loss: 0.4298 - val_accuracy: 0.9248\n",
            "Epoch 177: early stopping\n"
          ]
        },
        {
          "data": {
            "text/plain": [
              "<keras.callbacks.History at 0x7f837d555b40>"
            ]
          },
          "execution_count": 11,
          "metadata": {},
          "output_type": "execute_result"
        }
      ],
      "source": [
        "model.fit(\n",
        "    X_train,\n",
        "    y_train,\n",
        "    epochs=1000,\n",
        "    batch_size=128,\n",
        "    validation_data=(X_test, y_test),\n",
        "    callbacks=[cp_callback, es_callback]\n",
        ")"
      ]
    },
    {
      "cell_type": "code",
      "execution_count": 12,
      "metadata": {
        "colab": {
          "base_uri": "https://localhost:8080/"
        },
        "id": "pxvb2Y299hE3",
        "outputId": "59eb3185-2e37-4b9e-bc9d-ab1b8ac29b7f"
      },
      "outputs": [
        {
          "name": "stdout",
          "output_type": "stream",
          "text": [
            "17/17 [==============================] - 0s 1ms/step - loss: 0.4298 - accuracy: 0.9248\n"
          ]
        }
      ],
      "source": [
        "# Model evaluation\n",
        "val_loss, val_acc = model.evaluate(X_test, y_test, batch_size=128)"
      ]
    },
    {
      "cell_type": "code",
      "execution_count": 13,
      "metadata": {
        "id": "RBkmDeUW9hE4"
      },
      "outputs": [],
      "source": [
        "# Loading the saved model\n",
        "model = tf.keras.models.load_model(model_save_path)"
      ]
    },
    {
      "cell_type": "code",
      "execution_count": 14,
      "metadata": {
        "colab": {
          "base_uri": "https://localhost:8080/"
        },
        "id": "tFz9Tb0I9hE4",
        "outputId": "1c3b3528-54ae-4ee2-ab04-77429211cbef"
      },
      "outputs": [
        {
          "name": "stdout",
          "output_type": "stream",
          "text": [
            "1/1 [==============================] - 0s 69ms/step\n",
            "[6.58838451e-02 1.03943616e-01 1.15076927e-02 1.10242877e-03\n",
            " 4.41209599e-03 9.45032389e-06 8.13136339e-01 4.47879665e-06]\n",
            "6\n"
          ]
        }
      ],
      "source": [
        "# Inference test\n",
        "predict_result = model.predict(np.array([X_test[0]]))\n",
        "print(np.squeeze(predict_result))\n",
        "print(np.argmax(np.squeeze(predict_result)))"
      ]
    },
    {
      "cell_type": "markdown",
      "metadata": {
        "id": "S3U4yNWx9hE4"
      },
      "source": [
        "# Confusion matrix"
      ]
    },
    {
      "cell_type": "code",
      "execution_count": 15,
      "metadata": {
        "colab": {
          "base_uri": "https://localhost:8080/",
          "height": 582
        },
        "id": "AP1V6SCk9hE5",
        "outputId": "08e41a80-7a4a-4619-8125-ecc371368d19"
      },
      "outputs": [
        {
          "name": "stdout",
          "output_type": "stream",
          "text": [
            "65/65 [==============================] - 0s 972us/step\n"
          ]
        },
        {
          "data": {
            "image/png": "[encoded data removed]",
            "text/plain": [
              "<Figure size 700x600 with 2 Axes>"
            ]
          },
          "metadata": {},
          "output_type": "display_data"
        },
        {
          "name": "stdout",
          "output_type": "stream",
          "text": [
            "Classification Report\n",
            "              precision    recall  f1-score   support\n",
            "\n",
            "           0       0.93      0.96      0.95       559\n",
            "           1       0.95      0.90      0.93       454\n",
            "           2       0.83      0.95      0.89       348\n",
            "           3       0.98      0.86      0.92       236\n",
            "           4       0.96      0.81      0.88       178\n",
            "           5       0.97      0.95      0.96        75\n",
            "           6       0.89      0.98      0.93       107\n",
            "           7       0.99      0.99      0.99       118\n",
            "\n",
            "    accuracy                           0.92      2075\n",
            "   macro avg       0.94      0.93      0.93      2075\n",
            "weighted avg       0.93      0.92      0.92      2075\n",
            "\n"
          ]
        }
      ],
      "source": [
        "import pandas as pd\n",
        "import seaborn as sns\n",
        "import matplotlib.pyplot as plt\n",
        "from sklearn.metrics import confusion_matrix, classification_report\n",
        "\n",
        "def print_confusion_matrix(y_true, y_pred, report=True):\n",
        "    labels = sorted(list(set(y_true)))\n",
        "    cmx_data = confusion_matrix(y_true, y_pred, labels=labels)\n",
        "    \n",
        "    df_cmx = pd.DataFrame(cmx_data, index=labels, columns=labels)\n",
        " \n",
        "    fig, ax = plt.subplots(figsize=(7, 6))\n",
        "    sns.heatmap(df_cmx, annot=True, fmt='g' ,square=False)\n",
        "    ax.set_ylim(len(set(y_true)), 0)\n",
        "    plt.show()\n",
        "    \n",
        "    if report:\n",
        "        print('Classification Report')\n",
        "        print(classification_report(y_test, y_pred))\n",
        "\n",
        "Y_pred = model.predict(X_test)\n",
        "y_pred = np.argmax(Y_pred, axis=1)\n",
        "\n",
        "print_confusion_matrix(y_test, y_pred)"
      ]
    },
    {
      "cell_type": "markdown",
      "metadata": {
        "id": "FNP6aqzc9hE5"
      },
      "source": [
        "# Convert to model for Tensorflow-Lite"
      ]
    },
    {
      "cell_type": "code",
      "execution_count": 16,
      "metadata": {
        "id": "ODjnYyld9hE6"
      },
      "outputs": [],
      "source": [
        "# Save as a model dedicated to inference\n",
        "model.save(model_save_path, include_optimizer=False)"
      ]
    },
    {
      "cell_type": "code",
      "execution_count": 17,
      "metadata": {
        "colab": {
          "base_uri": "https://localhost:8080/"
        },
        "id": "zRfuK8Y59hE6",
        "outputId": "a4ca585c-b5d5-4244-8291-8674063209bb"
      },
      "outputs": [
        {
          "name": "stderr",
          "output_type": "stream",
          "text": [
            "WARNING:absl:Found untraced functions such as _update_step_xla while saving (showing 1 of 1). These functions will not be directly callable after loading.\n"
          ]
        },
        {
          "name": "stdout",
          "output_type": "stream",
          "text": [
            "INFO:tensorflow:Assets written to: /tmp/tmp05_9ia9_/assets\n"
          ]
        },
        {
          "name": "stderr",
          "output_type": "stream",
          "text": [
            "INFO:tensorflow:Assets written to: /tmp/tmp05_9ia9_/assets\n",
            "2023-03-13 16:25:02.652472: W tensorflow/compiler/mlir/lite/python/tf_tfl_flatbuffer_helpers.cc:362] Ignored output_format.\n",
            "2023-03-13 16:25:02.652501: W tensorflow/compiler/mlir/lite/python/tf_tfl_flatbuffer_helpers.cc:365] Ignored drop_control_dependency.\n",
            "2023-03-13 16:25:02.653286: I tensorflow/cc/saved_model/reader.cc:45] Reading SavedModel from: /tmp/tmp05_9ia9_\n",
            "2023-03-13 16:25:02.654498: I tensorflow/cc/saved_model/reader.cc:89] Reading meta graph with tags { serve }\n",
            "2023-03-13 16:25:02.654545: I tensorflow/cc/saved_model/reader.cc:130] Reading SavedModel debug info (if present) from: /tmp/tmp05_9ia9_\n",
            "2023-03-13 16:25:02.659408: I tensorflow/compiler/mlir/mlir_graph_optimization_pass.cc:357] MLIR V1 optimization pass is not enabled\n",
            "2023-03-13 16:25:02.660444: I tensorflow/cc/saved_model/loader.cc:229] Restoring SavedModel bundle.\n",
            "2023-03-13 16:25:02.699355: I tensorflow/cc/saved_model/loader.cc:213] Running initialization op on SavedModel bundle at path: /tmp/tmp05_9ia9_\n",
            "2023-03-13 16:25:02.708134: I tensorflow/cc/saved_model/loader.cc:305] SavedModel load for tags { serve }; Status: success: OK. Took 55045 microseconds.\n",
            "2023-03-13 16:25:02.730031: I tensorflow/compiler/mlir/tensorflow/utils/dump_mlir_util.cc:268] disabling MLIR crash reproducer, set env var `MLIR_CRASH_REPRODUCER_DIRECTORY` to enable.\n"
          ]
        },
        {
          "data": {
            "text/plain": [
              "6720"
            ]
          },
          "execution_count": 17,
          "metadata": {},
          "output_type": "execute_result"
        }
      ],
      "source": [
        "# Transform model (quantization)\n",
        "\n",
        "converter = tf.lite.TFLiteConverter.from_keras_model(model)\n",
        "converter.optimizations = [tf.lite.Optimize.DEFAULT]\n",
        "tflite_quantized_model = converter.convert()\n",
        "\n",
        "open(tflite_save_path, 'wb').write(tflite_quantized_model)"
      ]
    },
    {
      "cell_type": "markdown",
      "metadata": {
        "id": "CHBPBXdx9hE6"
      },
      "source": [
        "# Inference test"
      ]
    },
    {
      "cell_type": "code",
      "execution_count": 18,
      "metadata": {
        "id": "mGAzLocO9hE7"
      },
      "outputs": [
        {
          "name": "stderr",
          "output_type": "stream",
          "text": [
            "INFO: Created TensorFlow Lite XNNPACK delegate for CPU.\n"
          ]
        }
      ],
      "source": [
        "interpreter = tf.lite.Interpreter(model_path=tflite_save_path)\n",
        "interpreter.allocate_tensors()"
      ]
    },
    {
      "cell_type": "code",
      "execution_count": 19,
      "metadata": {
        "id": "oQuDK8YS9hE7"
      },
      "outputs": [],
      "source": [
        "# Get I / O tensor\n",
        "input_details = interpreter.get_input_details()\n",
        "output_details = interpreter.get_output_details()"
      ]
    },
    {
      "cell_type": "code",
      "execution_count": 20,
      "metadata": {
        "id": "2_ixAf_l9hE7"
      },
      "outputs": [],
      "source": [
        "interpreter.set_tensor(input_details[0]['index'], np.array([X_test[0]]))"
      ]
    },
    {
      "cell_type": "code",
      "execution_count": 21,
      "metadata": {
        "colab": {
          "base_uri": "https://localhost:8080/"
        },
        "id": "s4FoAnuc9hE7",
        "outputId": "91f18257-8d8b-4ef3-c558-e9b5f94fabbf",
        "scrolled": true
      },
      "outputs": [
        {
          "name": "stdout",
          "output_type": "stream",
          "text": [
            "CPU times: user 214 µs, sys: 15 µs, total: 229 µs\n",
            "Wall time: 221 µs\n"
          ]
        }
      ],
      "source": [
        "%%time\n",
        "# Inference implementation\n",
        "interpreter.invoke()\n",
        "tflite_results = interpreter.get_tensor(output_details[0]['index'])"
      ]
    },
    {
      "cell_type": "code",
      "execution_count": 22,
      "metadata": {
        "colab": {
          "base_uri": "https://localhost:8080/"
        },
        "id": "vONjp19J9hE8",
        "outputId": "77205e24-fd00-42c4-f7b6-e06e527c2cba"
      },
      "outputs": [
        {
          "name": "stdout",
          "output_type": "stream",
          "text": [
            "[6.5883867e-02 1.0394356e-01 1.1507673e-02 1.1024291e-03 4.4120909e-03\n",
            " 9.4503166e-06 8.1313652e-01 4.4787853e-06]\n",
            "6\n"
          ]
        }
      ],
      "source": [
        "print(np.squeeze(tflite_results))\n",
        "print(np.argmax(np.squeeze(tflite_results)))"
      ]
    }
  ],
  "metadata": {
    "accelerator": "GPU",
    "colab": {
      "collapsed_sections": [],
      "name": "keypoint_classification_EN.ipynb",
      "provenance": [],
      "toc_visible": true
    },
    "kernelspec": {
      "display_name": "Python 3",
      "language": "python",
      "name": "python3"
    },
    "language_info": {
      "codemirror_mode": {
        "name": "ipython",
        "version": 3
      },
      "file_extension": ".py",
      "mimetype": "text/x-python",
      "name": "python",
      "nbconvert_exporter": "python",
      "pygments_lexer": "ipython3",
      "version": "3.10.6"
    },
    "vscode": {
      "interpreter": {
        "hash": "916dbcbb3f70747c44a77c7bcd40155683ae19c65e1c03b4aa3499c5328201f1"
      }
    }
  },
  "nbformat": 4,
  "nbformat_minor": 0
}
